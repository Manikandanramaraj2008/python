{
 "cells": [
  {
   "cell_type": "code",
   "execution_count": null,
   "id": "7d290ee0-82c6-422b-b8dd-d381ef074d18",
   "metadata": {},
   "outputs": [],
   "source": [
    "# instal numpy package\n",
    "import numpy as np\n"
   ]
  },
  {
   "cell_type": "code",
   "execution_count": 47,
   "id": "8aa4bf65-15ca-4bd2-a383-7f530fafea05",
   "metadata": {},
   "outputs": [],
   "source": [
    "# installation of packages\n",
    "# anaconda prompt ...conda activate myenv\n",
    "# conda install numpy\n"
   ]
  },
  {
   "cell_type": "code",
   "execution_count": 48,
   "id": "24bc6ffd-378b-43ff-8531-64f7e3df4059",
   "metadata": {},
   "outputs": [
    {
     "data": {
      "text/plain": [
       "array(['bat', 'ball', 'gloves'], dtype='<U6')"
      ]
     },
     "execution_count": 48,
     "metadata": {},
     "output_type": "execute_result"
    }
   ],
   "source": [
    "# create 1 dimensioal array\n",
    "\n",
    "crik_kit=np.array([\"bat\",\"ball\",\"gloves\"])\n",
    "crik_kit\n"
   ]
  },
  {
   "cell_type": "code",
   "execution_count": 49,
   "id": "12adee2e-31bc-4510-b22f-b38c3cc739ef",
   "metadata": {},
   "outputs": [
    {
     "data": {
      "text/plain": [
       "(3,)"
      ]
     },
     "execution_count": 49,
     "metadata": {},
     "output_type": "execute_result"
    }
   ],
   "source": [
    "crik_kit.shape"
   ]
  },
  {
   "cell_type": "code",
   "execution_count": 50,
   "id": "43aa74e8-f3d3-498d-b43f-2b56056492d9",
   "metadata": {},
   "outputs": [
    {
     "data": {
      "text/plain": [
       "1"
      ]
     },
     "execution_count": 50,
     "metadata": {},
     "output_type": "execute_result"
    }
   ],
   "source": [
    "crik_kit.ndim"
   ]
  },
  {
   "cell_type": "code",
   "execution_count": 139,
   "id": "323713e6-4e2d-412a-be3d-98f2fe1e8ed1",
   "metadata": {},
   "outputs": [
    {
     "data": {
      "text/plain": [
       "0"
      ]
     },
     "execution_count": 139,
     "metadata": {},
     "output_type": "execute_result"
    }
   ],
   "source": [
    "# create zero dimensioal array\n",
    "\n",
    "crik_kit_zero = np.array(\"crik_kits\")\n",
    "crik_kit_zero.ndim\n",
    "\n"
   ]
  },
  {
   "cell_type": "code",
   "execution_count": 52,
   "id": "528584fb-41a5-4e4d-a826-7314e41f3967",
   "metadata": {},
   "outputs": [
    {
     "data": {
      "text/plain": [
       "array([['bat', 'ball', 'gloves'],\n",
       "       ['bat', 'ball', 'gloves']], dtype='<U6')"
      ]
     },
     "execution_count": 52,
     "metadata": {},
     "output_type": "execute_result"
    }
   ],
   "source": [
    "# create two dimensioal array\n",
    "crik_kit_two = np.array([[\"bat\",\"ball\",\"gloves\"],[\"bat\",\"ball\",\"gloves\"]])\n",
    "crik_kit_two\n"
   ]
  },
  {
   "cell_type": "code",
   "execution_count": 53,
   "id": "aa0b6050-a7f0-4345-80db-bea945d5f4be",
   "metadata": {},
   "outputs": [
    {
     "data": {
      "text/plain": [
       "(2, 3)"
      ]
     },
     "execution_count": 53,
     "metadata": {},
     "output_type": "execute_result"
    }
   ],
   "source": [
    "crik_kit_two.shape"
   ]
  },
  {
   "cell_type": "code",
   "execution_count": 141,
   "id": "b960c5b9-c3fd-4879-b21f-264bf12cb36d",
   "metadata": {},
   "outputs": [
    {
     "data": {
      "text/plain": [
       "2"
      ]
     },
     "execution_count": 141,
     "metadata": {},
     "output_type": "execute_result"
    }
   ],
   "source": [
    "crik_kit_two.ndim"
   ]
  },
  {
   "cell_type": "code",
   "execution_count": 54,
   "id": "e6621c54-870d-461d-8ec0-1fb6bc7347ee",
   "metadata": {},
   "outputs": [
    {
     "data": {
      "text/plain": [
       "array([[['bat', 'ball', 'gloves'],\n",
       "        ['bat', 'ball', 'gloves']],\n",
       "\n",
       "       [['bat', 'ball', 'gloves'],\n",
       "        ['bat', 'ball', 'gloves']]], dtype='<U6')"
      ]
     },
     "execution_count": 54,
     "metadata": {},
     "output_type": "execute_result"
    }
   ],
   "source": [
    "crik_kit_three = np.array([[['bat', 'ball', 'gloves'],\n",
    "       ['bat', 'ball', 'gloves']],[['bat', 'ball', 'gloves'],\n",
    "       ['bat', 'ball', 'gloves']]])\n",
    "crik_kit_three"
   ]
  },
  {
   "cell_type": "code",
   "execution_count": 55,
   "id": "b40e0e29-d624-49cc-9d40-48534e33cdc4",
   "metadata": {},
   "outputs": [
    {
     "data": {
      "text/plain": [
       "3"
      ]
     },
     "execution_count": 55,
     "metadata": {},
     "output_type": "execute_result"
    }
   ],
   "source": [
    "crik_kit_three.ndim"
   ]
  },
  {
   "cell_type": "code",
   "execution_count": 143,
   "id": "34873f1f-e734-4c10-bfc3-06ece93334a2",
   "metadata": {},
   "outputs": [
    {
     "data": {
      "text/plain": [
       "(2, 2, 3)"
      ]
     },
     "execution_count": 143,
     "metadata": {},
     "output_type": "execute_result"
    }
   ],
   "source": [
    "crik_kit_three.shape"
   ]
  },
  {
   "cell_type": "code",
   "execution_count": 56,
   "id": "1dd4d3bc-3d72-4125-8b85-371d035bbe98",
   "metadata": {},
   "outputs": [
    {
     "data": {
      "text/plain": [
       "'bat'"
      ]
     },
     "execution_count": 56,
     "metadata": {},
     "output_type": "execute_result"
    }
   ],
   "source": [
    "# reshaping of arrays / indexing or slicing\n",
    "crik_kit[0]"
   ]
  },
  {
   "cell_type": "code",
   "execution_count": 151,
   "id": "13954c7d-fb09-4fc5-9481-8559ab88e77b",
   "metadata": {},
   "outputs": [
    {
     "data": {
      "text/plain": [
       "'gloves'"
      ]
     },
     "execution_count": 151,
     "metadata": {},
     "output_type": "execute_result"
    }
   ],
   "source": [
    "crik_kit_two[1,2]"
   ]
  },
  {
   "cell_type": "code",
   "execution_count": 149,
   "id": "92575593-4bed-437e-8434-85b93320a460",
   "metadata": {},
   "outputs": [
    {
     "data": {
      "text/plain": [
       "'bat'"
      ]
     },
     "execution_count": 149,
     "metadata": {},
     "output_type": "execute_result"
    }
   ],
   "source": [
    "crik_kit_three[1,0,0]"
   ]
  },
  {
   "cell_type": "code",
   "execution_count": 59,
   "id": "58fbb940-f3c7-4db7-8831-fb858f54b076",
   "metadata": {},
   "outputs": [
    {
     "data": {
      "text/plain": [
       "array(['bat'], dtype='<U6')"
      ]
     },
     "execution_count": 59,
     "metadata": {},
     "output_type": "execute_result"
    }
   ],
   "source": [
    "#{stat:stop:step) rule\n",
    "crik_kit[0:1:1]"
   ]
  },
  {
   "cell_type": "code",
   "execution_count": 153,
   "id": "10a41d56-1146-4e34-b767-0f36b9662c27",
   "metadata": {},
   "outputs": [
    {
     "data": {
      "text/plain": [
       "array(['ball'], dtype='<U6')"
      ]
     },
     "execution_count": 153,
     "metadata": {},
     "output_type": "execute_result"
    }
   ],
   "source": [
    "crik_kit[1:2:1]"
   ]
  },
  {
   "cell_type": "code",
   "execution_count": 171,
   "id": "0843e1bb-858a-495e-ba9d-c557d0154724",
   "metadata": {},
   "outputs": [
    {
     "data": {
      "text/plain": [
       "array([], dtype='<U6')"
      ]
     },
     "execution_count": 171,
     "metadata": {},
     "output_type": "execute_result"
    }
   ],
   "source": [
    "crik_kit[0:0:2]"
   ]
  },
  {
   "cell_type": "code",
   "execution_count": 61,
   "id": "a07fb8fb-86c3-4ed6-a54a-8c21f546d0b7",
   "metadata": {},
   "outputs": [
    {
     "data": {
      "text/plain": [
       "array(['ball'], dtype='<U6')"
      ]
     },
     "execution_count": 61,
     "metadata": {},
     "output_type": "execute_result"
    }
   ],
   "source": [
    "crik_kit[1:2:1]"
   ]
  },
  {
   "cell_type": "code",
   "execution_count": 62,
   "id": "afdf60de-bc9e-44ed-92d8-6e19a1f4c4cf",
   "metadata": {},
   "outputs": [
    {
     "data": {
      "text/plain": [
       "array(['ball', 'gloves'], dtype='<U6')"
      ]
     },
     "execution_count": 62,
     "metadata": {},
     "output_type": "execute_result"
    }
   ],
   "source": [
    "crik_kit[1:3:1]"
   ]
  },
  {
   "cell_type": "code",
   "execution_count": 63,
   "id": "cb46ca83-94e1-44de-8b83-30a986cee928",
   "metadata": {},
   "outputs": [
    {
     "data": {
      "text/plain": [
       "array(['bat', 'ball', 'gloves'], dtype='<U6')"
      ]
     },
     "execution_count": 63,
     "metadata": {},
     "output_type": "execute_result"
    }
   ],
   "source": [
    "crik_kit[0:3:1]"
   ]
  },
  {
   "cell_type": "code",
   "execution_count": 64,
   "id": "4ee9baf6-d37e-4fe5-a2ea-d1046009bf43",
   "metadata": {},
   "outputs": [
    {
     "data": {
      "text/plain": [
       "array([['bat', 'ball', 'gloves']], dtype='<U6')"
      ]
     },
     "execution_count": 64,
     "metadata": {},
     "output_type": "execute_result"
    }
   ],
   "source": [
    "crik_kit_two[0:1]"
   ]
  },
  {
   "cell_type": "code",
   "execution_count": 65,
   "id": "6c19eb5d-57d2-4ce1-adad-9a3e5f325e87",
   "metadata": {},
   "outputs": [
    {
     "data": {
      "text/plain": [
       "array(['bat', 'shirt', 'ball', 'gloves'], dtype='<U6')"
      ]
     },
     "execution_count": 65,
     "metadata": {},
     "output_type": "execute_result"
    }
   ],
   "source": [
    "# for inserting value (array name, index to add, element / value, axis)  axis: columnwise  =1, rowwise = 0\n",
    "\n",
    "np.insert(crik_kit,1,\"shirt\", axis=None)\n"
   ]
  },
  {
   "cell_type": "code",
   "execution_count": 66,
   "id": "6ffe046e-7d93-443e-b8d4-0bcf251a2316",
   "metadata": {},
   "outputs": [
    {
     "data": {
      "text/plain": [
       "array([['bat', 'shirt', 'ball', 'gloves'],\n",
       "       ['bat', 'shirt', 'ball', 'gloves']], dtype='<U6')"
      ]
     },
     "execution_count": 66,
     "metadata": {},
     "output_type": "execute_result"
    }
   ],
   "source": [
    "np.insert(crik_kit_two,1,\"shirt\", axis=1) # axis 1 stand for column "
   ]
  },
  {
   "cell_type": "code",
   "execution_count": 67,
   "id": "0c6fb94d-5067-41b6-8447-de4d097ed34a",
   "metadata": {},
   "outputs": [
    {
     "data": {
      "text/plain": [
       "array([['bat', 'ball', 'gloves'],\n",
       "       ['shirt', 'shirt', 'shirt'],\n",
       "       ['bat', 'ball', 'gloves']], dtype='<U6')"
      ]
     },
     "execution_count": 67,
     "metadata": {},
     "output_type": "execute_result"
    }
   ],
   "source": [
    "np.insert(crik_kit_two,1,\"shirt\", axis=0)   #  axis 0 stand for change the row"
   ]
  },
  {
   "cell_type": "code",
   "execution_count": 68,
   "id": "42c827da-d70d-4d4c-b965-cb631f8229d7",
   "metadata": {},
   "outputs": [
    {
     "data": {
      "text/plain": [
       "array(['bat', 'shirt', 'ball', 'gloves', 'bat', 'ball', 'gloves'],\n",
       "      dtype='<U6')"
      ]
     },
     "execution_count": 68,
     "metadata": {},
     "output_type": "execute_result"
    }
   ],
   "source": [
    "# flatten array -- if not axis used single array formed.  array.flatten(order=\"c\")   \n",
    "\n",
    "np.insert(crik_kit_two,1,\"shirt\")\n"
   ]
  },
  {
   "cell_type": "code",
   "execution_count": 69,
   "id": "9bdc8ed9-148f-4dbb-9f85-388ecd1316a0",
   "metadata": {},
   "outputs": [
    {
     "data": {
      "text/plain": [
       "array(['bat', 'ball', 'gloves', 'shirt'], dtype='<U6')"
      ]
     },
     "execution_count": 69,
     "metadata": {},
     "output_type": "execute_result"
    }
   ],
   "source": [
    "np.append(crik_kit,\"shirt\")"
   ]
  },
  {
   "cell_type": "code",
   "execution_count": 70,
   "id": "5a5402e8-a895-4882-99da-f80f3135f2a6",
   "metadata": {},
   "outputs": [
    {
     "data": {
      "text/plain": [
       "array(['bat', 'ball'], dtype='<U6')"
      ]
     },
     "execution_count": 70,
     "metadata": {},
     "output_type": "execute_result"
    }
   ],
   "source": [
    "# delete array syntax np.array(array name, index to delete,slement, axis)\n",
    "np.delete(crik_kit,2)"
   ]
  },
  {
   "cell_type": "code",
   "execution_count": 71,
   "id": "81bc548f-87cd-4d11-998f-d46d1218a247",
   "metadata": {},
   "outputs": [
    {
     "data": {
      "text/plain": [
       "(4,)"
      ]
     },
     "execution_count": 71,
     "metadata": {},
     "output_type": "execute_result"
    }
   ],
   "source": [
    "# Reshaping of array from one dimensional to two dimensional\n",
    "# appending to change values from 3 to 4 for matrix\n",
    "\n",
    "crik_kit = np.append(crik_kit,\"shirt\")\n",
    "crik_kit.shape\n",
    "\n"
   ]
  },
  {
   "cell_type": "code",
   "execution_count": 72,
   "id": "64d4468e-9b09-46b1-b33a-b27ad4fb751d",
   "metadata": {},
   "outputs": [
    {
     "data": {
      "text/plain": [
       "array([['bat', 'ball'],\n",
       "       ['gloves', 'shirt']], dtype='<U6')"
      ]
     },
     "execution_count": 72,
     "metadata": {},
     "output_type": "execute_result"
    }
   ],
   "source": [
    "# Reshaping of array from one dimensional to two dimensional array \n",
    "crik_kit.reshape(2,2)\n"
   ]
  },
  {
   "cell_type": "code",
   "execution_count": 73,
   "id": "24fd5278-c498-4232-ba2d-3d1e2d1bdf9e",
   "metadata": {},
   "outputs": [
    {
     "data": {
      "text/plain": [
       "(8,)"
      ]
     },
     "execution_count": 73,
     "metadata": {},
     "output_type": "execute_result"
    }
   ],
   "source": [
    "# Reshaping of array from one dimensional to three dimensional array .. first make in to 8 values \n",
    "crik_kit= np.array([\"bat\",\"ball\",\"gloves\",\"shirt\",\"bat\",\"ball\",\"gloves\",\"shirt\"])\n",
    "crik_kit.shape\n"
   ]
  },
  {
   "cell_type": "code",
   "execution_count": 74,
   "id": "7df30ef3-6fa4-4a5a-bd7c-a78210686a1d",
   "metadata": {},
   "outputs": [
    {
     "data": {
      "text/plain": [
       "array([[['bat', 'ball'],\n",
       "        ['gloves', 'shirt']],\n",
       "\n",
       "       [['bat', 'ball'],\n",
       "        ['gloves', 'shirt']]], dtype='<U6')"
      ]
     },
     "execution_count": 74,
     "metadata": {},
     "output_type": "execute_result"
    }
   ],
   "source": [
    "crik_kit.reshape(2,2,2)"
   ]
  },
  {
   "cell_type": "code",
   "execution_count": 75,
   "id": "2a19e036-df80-4183-9176-04f491ac46c2",
   "metadata": {},
   "outputs": [
    {
     "name": "stdout",
     "output_type": "stream",
     "text": [
      "bat\n",
      "ball\n",
      "gloves\n"
     ]
    }
   ],
   "source": [
    "# Array iteration for in statement\n",
    "crik_kit=np.array([\"bat\",\"ball\",\"gloves\"])\n",
    "for i in crik_kit:\n",
    "    print(i)"
   ]
  },
  {
   "cell_type": "code",
   "execution_count": 76,
   "id": "5aff671d-a675-4a70-9b6e-266470fd6987",
   "metadata": {},
   "outputs": [
    {
     "name": "stdout",
     "output_type": "stream",
     "text": [
      "i have: bat\n",
      "i have: ball\n",
      "i have: gloves\n"
     ]
    }
   ],
   "source": [
    "crik_kit=np.array([\"bat\",\"ball\",\"gloves\"])\n",
    "for i in crik_kit:\n",
    "    print(\"i have:\",i)"
   ]
  },
  {
   "cell_type": "code",
   "execution_count": 77,
   "id": "d08e60e9-8872-476f-bc55-288a9113c2c1",
   "metadata": {},
   "outputs": [
    {
     "name": "stdout",
     "output_type": "stream",
     "text": [
      "i have: bat\n",
      "i have: ball\n",
      "i have: gloves\n",
      "i have: bat\n",
      "i have: ball\n",
      "i have: gloves\n"
     ]
    }
   ],
   "source": [
    "crik_kit_two = np.array([[\"bat\",\"ball\",\"gloves\"],[\"bat\",\"ball\",\"gloves\"]])\n",
    "for i in crik_kit_two:\n",
    "    for j in i:\n",
    "        print(\"i have:\",j)"
   ]
  },
  {
   "cell_type": "code",
   "execution_count": 78,
   "id": "7b60aad1-7743-4ece-b1eb-07147fedaf04",
   "metadata": {},
   "outputs": [
    {
     "name": "stdout",
     "output_type": "stream",
     "text": [
      "i hav: bat\n",
      "i hav: ball\n",
      "i hav: gloves\n",
      "i hav: bat\n",
      "i hav: ball\n",
      "i hav: gloves\n"
     ]
    }
   ],
   "source": [
    "# iteration w/o two loops nditter\n",
    "for i in np.nditer(crik_kit_two):\n",
    "    print(\"i hav:\",i)"
   ]
  },
  {
   "cell_type": "code",
   "execution_count": 79,
   "id": "151103ce-39fc-463e-a3ce-1e9dc2fb5d37",
   "metadata": {},
   "outputs": [
    {
     "name": "stdout",
     "output_type": "stream",
     "text": [
      "index: (0, 0)\n",
      "index: (0, 1)\n",
      "index: (0, 2)\n",
      "index: (1, 0)\n",
      "index: (1, 1)\n",
      "index: (1, 2)\n"
     ]
    }
   ],
   "source": [
    "# iteration with index\n",
    "for idx,i in np.ndenumerate(crik_kit_two):\n",
    "    print(\"index:\",idx)\n",
    "    "
   ]
  },
  {
   "cell_type": "code",
   "execution_count": 80,
   "id": "4dcd6336-3961-4b1f-9938-ae4c1c483174",
   "metadata": {},
   "outputs": [
    {
     "name": "stdout",
     "output_type": "stream",
     "text": [
      "index: (0, 0)\n",
      "i have: bat\n",
      "index: (0, 1)\n",
      "i have: ball\n",
      "index: (0, 2)\n",
      "i have: gloves\n",
      "index: (1, 0)\n",
      "i have: bat\n",
      "index: (1, 1)\n",
      "i have: ball\n",
      "index: (1, 2)\n",
      "i have: gloves\n"
     ]
    }
   ],
   "source": [
    "# iteration with index\n",
    "for idx,i in np.ndenumerate(crik_kit_two):\n",
    "    print(\"index:\",idx)\n",
    "    print(\"i have:\",i)"
   ]
  },
  {
   "cell_type": "code",
   "execution_count": 81,
   "id": "e3c41273-67f5-406d-9dfe-f5344a1b5373",
   "metadata": {},
   "outputs": [
    {
     "data": {
      "text/plain": [
       "array([['pot', 'pot', 'pot'],\n",
       "       ['pot', 'pot', 'pot']], dtype='<U3')"
      ]
     },
     "execution_count": 81,
     "metadata": {},
     "output_type": "execute_result"
    }
   ],
   "source": [
    "# Joining of array\n",
    "# same size array joining hstack/vstack/dstack\n",
    "#different size array joining by concatanate((array), axis)\n",
    "\n",
    "kit_1 = np.array([[\"pot\",\"pot\",\"pot\"],[\"pot\",\"pot\",\"pot\"]])\n",
    "\n",
    "kit_1"
   ]
  },
  {
   "cell_type": "code",
   "execution_count": 82,
   "id": "6a1f13bd-f7af-4809-a417-d8689d2da19a",
   "metadata": {},
   "outputs": [
    {
     "data": {
      "text/plain": [
       "array([['ball', 'bat', 'net'],\n",
       "       ['ball', 'bat', 'net']], dtype='<U4')"
      ]
     },
     "execution_count": 82,
     "metadata": {},
     "output_type": "execute_result"
    }
   ],
   "source": [
    "kit_2 =np.array([[\"ball\",\"bat\",\"net\"],[\"ball\",\"bat\",\"net\"]])\n",
    "kit_2"
   ]
  },
  {
   "cell_type": "code",
   "execution_count": 83,
   "id": "72587290-b35a-474f-b5a2-b257ba329da2",
   "metadata": {},
   "outputs": [
    {
     "data": {
      "text/plain": [
       "array([['pot', 'pot', 'pot', 'ball', 'bat', 'net'],\n",
       "       ['pot', 'pot', 'pot', 'ball', 'bat', 'net']], dtype='<U4')"
      ]
     },
     "execution_count": 83,
     "metadata": {},
     "output_type": "execute_result"
    }
   ],
   "source": [
    "# hstack  rpw wise joining\n",
    "np.hstack((kit_1,kit_2))"
   ]
  },
  {
   "cell_type": "code",
   "execution_count": 84,
   "id": "a9441d5d-19f6-4988-9381-7648d9431532",
   "metadata": {},
   "outputs": [
    {
     "data": {
      "text/plain": [
       "array([['pot', 'pot', 'pot'],\n",
       "       ['pot', 'pot', 'pot'],\n",
       "       ['ball', 'bat', 'net'],\n",
       "       ['ball', 'bat', 'net']], dtype='<U4')"
      ]
     },
     "execution_count": 84,
     "metadata": {},
     "output_type": "execute_result"
    }
   ],
   "source": [
    "# vstack  column wise joining\n",
    "np.vstack((kit_1,kit_2))"
   ]
  },
  {
   "cell_type": "code",
   "execution_count": 85,
   "id": "c07de2d4-47d3-4456-94c5-dfd534ec9c0b",
   "metadata": {},
   "outputs": [
    {
     "data": {
      "text/plain": [
       "array([[['pot', 'ball'],\n",
       "        ['pot', 'bat'],\n",
       "        ['pot', 'net']],\n",
       "\n",
       "       [['pot', 'ball'],\n",
       "        ['pot', 'bat'],\n",
       "        ['pot', 'net']]], dtype='<U4')"
      ]
     },
     "execution_count": 85,
     "metadata": {},
     "output_type": "execute_result"
    }
   ],
   "source": [
    "# dstack  height wise joining\n",
    "np.dstack((kit_1,kit_2))"
   ]
  },
  {
   "cell_type": "code",
   "execution_count": 86,
   "id": "bf95a8bb-67ed-4555-b1dd-b4ae131d8622",
   "metadata": {},
   "outputs": [
    {
     "data": {
      "text/plain": [
       "[array([['pot', 'pot', 'pot']], dtype='<U3'),\n",
       " array([['pot', 'pot', 'pot']], dtype='<U3')]"
      ]
     },
     "execution_count": 86,
     "metadata": {},
     "output_type": "execute_result"
    }
   ],
   "source": [
    "# array splitting / cutting\n",
    "np.array_split(kit_1,2)"
   ]
  },
  {
   "cell_type": "code",
   "execution_count": 87,
   "id": "b3eb3ff3-911c-4a93-ba96-590f335cf7fb",
   "metadata": {},
   "outputs": [
    {
     "data": {
      "text/plain": [
       "[array([['pot', 'pot', 'pot']], dtype='<U3'),\n",
       " array([['pot', 'pot', 'pot']], dtype='<U3'),\n",
       " array([], shape=(0, 3), dtype='<U3')]"
      ]
     },
     "execution_count": 87,
     "metadata": {},
     "output_type": "execute_result"
    }
   ],
   "source": [
    "np.array_split(kit_1,3)"
   ]
  },
  {
   "cell_type": "code",
   "execution_count": 88,
   "id": "a4b16c91-7386-4da3-b22d-e8d4b38de156",
   "metadata": {},
   "outputs": [
    {
     "data": {
      "text/plain": [
       "[array(['ball', 'bat'], dtype='<U4'), array(['net'], dtype='<U4')]"
      ]
     },
     "execution_count": 88,
     "metadata": {},
     "output_type": "execute_result"
    }
   ],
   "source": [
    "# array splitting / cutting\n",
    "kit_3=np.array([\"ball\",\"bat\",\"net\"])\n",
    "np.array_split(kit_3,2)\n"
   ]
  },
  {
   "cell_type": "code",
   "execution_count": 89,
   "id": "e2422cf8-898d-4c11-9270-09ae5f2e5620",
   "metadata": {},
   "outputs": [
    {
     "data": {
      "text/plain": [
       "[array(['ball'], dtype='<U4'),\n",
       " array(['bat'], dtype='<U4'),\n",
       " array(['net'], dtype='<U4')]"
      ]
     },
     "execution_count": 89,
     "metadata": {},
     "output_type": "execute_result"
    }
   ],
   "source": [
    "np.array_split(kit_3,3)"
   ]
  },
  {
   "cell_type": "code",
   "execution_count": 90,
   "id": "ada45139-9e8a-45e8-b77e-9b116fd4d1c4",
   "metadata": {},
   "outputs": [
    {
     "data": {
      "text/plain": [
       "[array(['ball'], dtype='<U4'),\n",
       " array(['bat'], dtype='<U4'),\n",
       " array(['net'], dtype='<U4'),\n",
       " array([], dtype='<U4')]"
      ]
     },
     "execution_count": 90,
     "metadata": {},
     "output_type": "execute_result"
    }
   ],
   "source": [
    "np.array_split(kit_3,4)"
   ]
  },
  {
   "cell_type": "code",
   "execution_count": 187,
   "id": "22a020f7-24a6-4be7-b229-1b2d28d81f78",
   "metadata": {},
   "outputs": [
    {
     "data": {
      "text/plain": [
       "array([['ball', 'bat', 'net'],\n",
       "       ['rocket', 'star', 'sun']], dtype='<U6')"
      ]
     },
     "execution_count": 187,
     "metadata": {},
     "output_type": "execute_result"
    }
   ],
   "source": [
    "kit_4 =np.array([[\"ball\",\"bat\",\"net\"],[\"rocket\",\"star\",\"sun\"]])\n",
    "kit_4"
   ]
  },
  {
   "cell_type": "code",
   "execution_count": 201,
   "id": "be98af00-a822-4d22-ad36-e0a3b971d3f2",
   "metadata": {},
   "outputs": [
    {
     "data": {
      "text/plain": [
       "[array([['ball', 'bat', 'net'],\n",
       "        ['rocket', 'star', 'sun']], dtype='<U6')]"
      ]
     },
     "execution_count": 201,
     "metadata": {},
     "output_type": "execute_result"
    }
   ],
   "source": [
    "# cutting the array by index horizontally column\n",
    "np.hsplit(kit_4,1)"
   ]
  },
  {
   "cell_type": "code",
   "execution_count": 207,
   "id": "7a2672d2-8219-40dd-b416-a7ee163bf8cd",
   "metadata": {},
   "outputs": [
    {
     "data": {
      "text/plain": [
       "[array([['ball', 'bat', 'net'],\n",
       "        ['rocket', 'star', 'sun']], dtype='<U6')]"
      ]
     },
     "execution_count": 207,
     "metadata": {},
     "output_type": "execute_result"
    }
   ],
   "source": [
    "# cutting the array by index vertically row\n",
    "np.vsplit(kit_4,1)"
   ]
  },
  {
   "cell_type": "code",
   "execution_count": 1,
   "id": "674705f1-2f47-43d3-af0f-8945683c9d56",
   "metadata": {},
   "outputs": [],
   "source": [
    "# cutting the array by index vertically row\n"
   ]
  },
  {
   "cell_type": "code",
   "execution_count": 58,
   "id": "933db5ee-97be-4478-8604-b48a58c246bd",
   "metadata": {},
   "outputs": [
    {
     "data": {
      "text/plain": [
       "['r', 'a', 'm']"
      ]
     },
     "execution_count": 58,
     "metadata": {},
     "output_type": "execute_result"
    }
   ],
   "source": [
    "# copying array.... it willcreate new copy of array. View array will  not change the array \n",
    "kit_11=[\"r\",\"a\",\"m\"]\n",
    "kit_11C = kit_11.copy()\n",
    "kit_11C\n"
   ]
  },
  {
   "cell_type": "code",
   "execution_count": 13,
   "id": "61947c21-2336-43a6-b2f2-71b1783eb68c",
   "metadata": {},
   "outputs": [
    {
     "data": {
      "text/plain": [
       "['r', 'a', 'm']"
      ]
     },
     "execution_count": 13,
     "metadata": {},
     "output_type": "execute_result"
    }
   ],
   "source": [
    "kit_11"
   ]
  },
  {
   "cell_type": "code",
   "execution_count": null,
   "id": "2c219b10-766c-4a8b-8335-7635dbbe9b49",
   "metadata": {},
   "outputs": [],
   "source": []
  }
 ],
 "metadata": {
  "kernelspec": {
   "display_name": "Python 3 (ipykernel)",
   "language": "python",
   "name": "python3"
  },
  "language_info": {
   "codemirror_mode": {
    "name": "ipython",
    "version": 3
   },
   "file_extension": ".py",
   "mimetype": "text/x-python",
   "name": "python",
   "nbconvert_exporter": "python",
   "pygments_lexer": "ipython3",
   "version": "3.12.4"
  }
 },
 "nbformat": 4,
 "nbformat_minor": 5
}
