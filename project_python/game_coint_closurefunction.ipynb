{
 "cells": [
  {
   "cell_type": "code",
   "execution_count": null,
   "id": "689b95d7-cdda-49fd-8d10-6f13c1f93de7",
   "metadata": {},
   "outputs": [],
   "source": [
    "# SCOPE\n",
    "\n",
    "# GLOBAL SCOPE\n",
    "# global variable\n",
    "# global function\n",
    "\n",
    "# lOCAL SCOPE\n",
    "\n",
    "# CLOSURE ---- it is a function. having access to the scope of its parent function \n",
    "# after parent function is executed.\n",
    "\n",
    "#UnboundLocalError in Python \n",
    "# occurs when a local variable is referenced before \n",
    "#it is assigned within a function's local scope. This can happen when a global variable is \n",
    "#used in a function that also defines a local version of the same variable.\n",
    "\n",
    "@ syntaxError---- unterminated literal\n",
    "\n",
    "\n",
    "\n",
    "\n"
   ]
  },
  {
   "cell_type": "code",
   "execution_count": 45,
   "id": "0ea15bdd-e429-493b-bfea-b4afed517aa2",
   "metadata": {},
   "outputs": [
    {
     "name": "stdout",
     "output_type": "stream",
     "text": [
      "\n",
      "tommy has 2 coins left\n",
      "\n",
      "tommy has 1 coin left\n",
      "\n",
      "tommy is out of coins.\n",
      "\n",
      "jenny has 2 coins left\n"
     ]
    }
   ],
   "source": [
    "def parent_funct(person):  # Global function\n",
    "    coins =3\n",
    "    def play_game():      # local function\n",
    "        nonlocal coins    # provide access to global function\n",
    "        coins-= 1\n",
    "        if coins >1:\n",
    "            print(\"\\n\" + person + \" \" +\"has\" +(\" \")+ str(coins) +(\" \") + \"coins left\")\n",
    "        elif coins==1:\n",
    "            print(\"\\n\"+ person + \" \" + \"has\" +(\" \")+ str(coins) +(\" \") + \"coin left\")\n",
    "        else:\n",
    "            print(\"\\n\" + person + \" \" + \"is out of coins.\")\n",
    "    return play_game  # local function not called out. only request for return it.\n",
    "\n",
    "tommy =  parent_funct(\"tommy\")  \n",
    "tommy()      # calling the parent function\n",
    "tommy()      # from 3  one coin already used so the second calling assume from 2 coints  one coin to be subtract\n",
    "tommy()      # we called the parent function 3rd time, all coins left \n",
    "\n",
    "jenny = parent_funct(\"jenny\")        \n",
    "jenny()     # first time calling the parent function jenny so that 2 conins left  \n",
    "        \n",
    "        "
   ]
  },
  {
   "cell_type": "code",
   "execution_count": null,
   "id": "7a761028-3afb-4208-9a7e-791f39460d90",
   "metadata": {},
   "outputs": [],
   "source": []
  },
  {
   "cell_type": "code",
   "execution_count": null,
   "id": "d805d452-738d-47f1-8adb-5941ca6e0b45",
   "metadata": {},
   "outputs": [],
   "source": []
  }
 ],
 "metadata": {
  "kernelspec": {
   "display_name": "Python 3 (ipykernel)",
   "language": "python",
   "name": "python3"
  },
  "language_info": {
   "codemirror_mode": {
    "name": "ipython",
    "version": 3
   },
   "file_extension": ".py",
   "mimetype": "text/x-python",
   "name": "python",
   "nbconvert_exporter": "python",
   "pygments_lexer": "ipython3",
   "version": "3.12.4"
  }
 },
 "nbformat": 4,
 "nbformat_minor": 5
}
