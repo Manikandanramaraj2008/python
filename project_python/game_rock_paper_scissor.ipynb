{
 "cells": [
  {
   "cell_type": "code",
   "execution_count": 3,
   "id": "72d503fc-e886-4672-9ecf-ad59924b7560",
   "metadata": {},
   "outputs": [
    {
     "name": "stdin",
     "output_type": "stream",
     "text": [
      "Enter...\n",
      "1 for Rock\n",
      "2 for Scissor\n",
      "3 for Paper:\n",
      "\n",
      " 2\n"
     ]
    },
    {
     "name": "stdout",
     "output_type": "stream",
     "text": [
      "you chose  SCISSOR .\n",
      "python chose  PAPER.\n",
      "🏆 python win...!!!\n"
     ]
    },
    {
     "name": "stdin",
     "output_type": "stream",
     "text": [
      "\n",
      "playagain ...?\n",
      "y for yes or \n",
      "Q for quit\n",
      "\n",
      " y\n",
      "Enter...\n",
      "1 for Rock\n",
      "2 for Scissor\n",
      "3 for Paper:\n",
      "\n",
      " 3\n"
     ]
    },
    {
     "name": "stdout",
     "output_type": "stream",
     "text": [
      "you chose  PAPER .\n",
      "python chose  ROCK.\n",
      "🏆 python win...!!!\n"
     ]
    },
    {
     "name": "stdin",
     "output_type": "stream",
     "text": [
      "\n",
      "playagain ...?\n",
      "y for yes or \n",
      "Q for quit\n",
      "\n",
      " Q\n"
     ]
    },
    {
     "name": "stdout",
     "output_type": "stream",
     "text": [
      "\n",
      " 🌹🌹🌹🌹\n",
      "Thank you for playing!!!\n",
      "\n"
     ]
    },
    {
     "ename": "SystemExit",
     "evalue": " ☘️ Bye !!",
     "output_type": "error",
     "traceback": [
      "An exception has occurred, use %tb to see the full traceback.\n",
      "\u001b[1;31mSystemExit\u001b[0m\u001b[1;31m:\u001b[0m  ☘️ Bye !!\n"
     ]
    },
    {
     "name": "stderr",
     "output_type": "stream",
     "text": [
      "C:\\Users\\maniv\\anaconda3\\Lib\\site-packages\\IPython\\core\\interactiveshell.py:3585: UserWarning: To exit: use 'exit', 'quit', or Ctrl-D.\n",
      "  warn(\"To exit: use 'exit', 'quit', or Ctrl-D.\", stacklevel=1)\n"
     ]
    }
   ],
   "source": [
    "# Rock_Scissor_Paper_Game\n",
    "\n",
    "\n",
    "import random # choice of random numbers\n",
    "import sys  # system control open / exit\n",
    "from enum import Enum # help to assign the unique value\n",
    "\n",
    "# chose variable name as class RPS(Rock, paper ,scissor) \n",
    "# for assign unique values. UPPER CASE stands for constant.\n",
    "class RPS(Enum):\n",
    "       ROCK =1 \n",
    "       SCISSOR =2\n",
    "       PAPER = 3\n",
    "# print(RPS(3))\n",
    "# print(RPS.ROCK.value)\n",
    "# print(RPS[\"SCISSOR\"])\n",
    "\n",
    "playagain = True # adding logics if the player repeat the game\n",
    "while playagain:\n",
    "       \n",
    "       # print(\" \")\n",
    "\n",
    "       playerchoice = input(\"Enter...\\n1 for Rock\\n2 for Scissor\\n3 for Paper:\\n\\n\")\n",
    "\n",
    "# printing 1,2,3 and choices Rock,Scissor,paper                                                 \n",
    "# print(playerchoice)  # choice 1 printed\n",
    "# print(type(playerchoice)) # type is string, but we need integer\n",
    "\n",
    "       player = int(playerchoice) # datatype converted into string to integer\n",
    "\n",
    "       if player < 1 or player > 3:\n",
    "                             \n",
    "              # if player choice lessthan 1 or more then 3 \n",
    "       # the lofic error ask system to exit from the programme with error message\n",
    "              s.exit(\"😨 you must enter 1, 2, or 3.\")\n",
    "\n",
    "\n",
    "       computerchoice =random.choice(\"123\") \n",
    "       # computer choicing randomly 123 as string\n",
    "       computer =int(computerchoice) #datatype converted into integer from string\n",
    "\n",
    "       # Hold the below printing method for include RPS value alternate method\n",
    "       # print(\"you chose\" + \" \" + playerchoice + \" .\")\n",
    "       # print(\"python chose\"+ \" \"+ computerchoice + \".\")\n",
    "\n",
    "       # instead of value sending the variable as value passing in RPS\n",
    "       # to convert the datatype from enum to string use constructor str\n",
    "       # use method replace for remove printing RPS in result\n",
    "\n",
    "       print(\"you chose\" + \" \" + str(RPS(player)).replace(\"RPS.\", \" \")+ \" .\") \n",
    "       print(\"python chose\"+ \" \"+ str(RPS(computer)).replace(\"RPS.\", \" \") + \".\")\n",
    "\n",
    "\n",
    "       if player==1 and computer ==3:\n",
    "              print(\"🎉 you win\")\n",
    "       elif player ==2 and computer == 1:\n",
    "              print(\"🎯 you win\")\n",
    "       elif player ==3 and computer == 2:\n",
    "              print(\"😎 you win\")\n",
    "       elif player == computer:\n",
    "              print(\"🦋 Tie Game\")\n",
    "       else:\n",
    "              print(\"🏆 python win...!!!\")\n",
    "# playagain variable used for the next playing options to player\n",
    "       playagain = input(\"\\nplayagain ...?\\ny for yes or \\nQ for quit\\n\\n\")\n",
    "       if playagain.lower() == \"y\":\n",
    "              continue\n",
    "       else:\n",
    "              print(\"\\n 🌹🌹🌹🌹\")\n",
    "              print(\"Thank you for playing!!!\\n\")\n",
    "              playagain = False\n",
    "       sys.exit(\" ☘️ Bye !!\")"
   ]
  },
  {
   "cell_type": "code",
   "execution_count": null,
   "id": "09f432c6-555c-4d23-a324-d479c22194ac",
   "metadata": {},
   "outputs": [],
   "source": []
  }
 ],
 "metadata": {
  "kernelspec": {
   "display_name": "Python 3 (ipykernel)",
   "language": "python",
   "name": "python3"
  },
  "language_info": {
   "codemirror_mode": {
    "name": "ipython",
    "version": 3
   },
   "file_extension": ".py",
   "mimetype": "text/x-python",
   "name": "python",
   "nbconvert_exporter": "python",
   "pygments_lexer": "ipython3",
   "version": "3.12.4"
  }
 },
 "nbformat": 4,
 "nbformat_minor": 5
}
