{
 "cells": [
  {
   "cell_type": "code",
   "execution_count": 25,
   "id": "b939e15a-316f-43cc-b383-c922ea747777",
   "metadata": {},
   "outputs": [
    {
     "data": {
      "text/plain": [
       "'welcome'"
      ]
     },
     "execution_count": 25,
     "metadata": {},
     "output_type": "execute_result"
    }
   ],
   "source": [
    "# string declaration\n",
    "str =\"welcome\"\n",
    "str\n",
    "\n"
   ]
  },
  {
   "cell_type": "code",
   "execution_count": 5,
   "id": "b56093e6-b142-43bb-bd2a-3f6ebe54fb48",
   "metadata": {},
   "outputs": [
    {
     "data": {
      "text/plain": [
       "50"
      ]
     },
     "execution_count": 5,
     "metadata": {},
     "output_type": "execute_result"
    }
   ],
   "source": [
    "# integer declaration\n",
    "a=50\n",
    "a"
   ]
  },
  {
   "cell_type": "code",
   "execution_count": 9,
   "id": "f2d77891-3dee-4fd0-99a4-7addb2931674",
   "metadata": {},
   "outputs": [
    {
     "data": {
      "text/plain": [
       "50"
      ]
     },
     "execution_count": 9,
     "metadata": {},
     "output_type": "execute_result"
    }
   ],
   "source": [
    "b=a\n",
    "b"
   ]
  },
  {
   "cell_type": "code",
   "execution_count": 11,
   "id": "777569f9-316b-4ea9-9ae2-089eec72317c",
   "metadata": {},
   "outputs": [
    {
     "data": {
      "text/plain": [
       "140714446700504"
      ]
     },
     "execution_count": 11,
     "metadata": {},
     "output_type": "execute_result"
    }
   ],
   "source": [
    "id(a)"
   ]
  },
  {
   "cell_type": "code",
   "execution_count": 13,
   "id": "cf03b3d4-9a29-40fa-88ec-1cf9b3f6bad1",
   "metadata": {},
   "outputs": [
    {
     "data": {
      "text/plain": [
       "140714446700504"
      ]
     },
     "execution_count": 13,
     "metadata": {},
     "output_type": "execute_result"
    }
   ],
   "source": [
    "# since a =b the memory id value are equal to a and  b\n",
    "id(b)"
   ]
  },
  {
   "cell_type": "code",
   "execution_count": 15,
   "id": "cc6e2849-cc8b-450a-8152-03600310c3dd",
   "metadata": {},
   "outputs": [
    {
     "data": {
      "text/plain": [
       "2127059024656"
      ]
     },
     "execution_count": 15,
     "metadata": {},
     "output_type": "execute_result"
    }
   ],
   "source": [
    "\n",
    "# id value changed for the variable\n",
    "a=500\n",
    "id(a)"
   ]
  },
  {
   "cell_type": "code",
   "execution_count": 19,
   "id": "953367d6-c93a-4c15-8b21-6ff1311cce31",
   "metadata": {},
   "outputs": [
    {
     "data": {
      "text/plain": [
       "10"
      ]
     },
     "execution_count": 19,
     "metadata": {},
     "output_type": "execute_result"
    }
   ],
   "source": [
    "# multiple integer declaration\n",
    "x=y=z=10\n",
    "int(x)\n",
    "\n"
   ]
  },
  {
   "cell_type": "code",
   "execution_count": 23,
   "id": "214fdb6a-fff4-437b-82f8-79a2aec16f2e",
   "metadata": {},
   "outputs": [
    {
     "data": {
      "text/plain": [
       "10"
      ]
     },
     "execution_count": 23,
     "metadata": {},
     "output_type": "execute_result"
    }
   ],
   "source": [
    "int(y)"
   ]
  },
  {
   "cell_type": "code",
   "execution_count": 21,
   "id": "d544ccc7-6e29-4a51-afbe-0a0df119fa31",
   "metadata": {},
   "outputs": [
    {
     "data": {
      "text/plain": [
       "140714446699224"
      ]
     },
     "execution_count": 21,
     "metadata": {},
     "output_type": "execute_result"
    }
   ],
   "source": [
    "## ids will remain same\n",
    "id(x)\n"
   ]
  },
  {
   "cell_type": "code",
   "execution_count": 25,
   "id": "b00dcb1b-e808-416f-8ba5-242f56342b8c",
   "metadata": {},
   "outputs": [
    {
     "data": {
      "text/plain": [
       "140714446699224"
      ]
     },
     "execution_count": 25,
     "metadata": {},
     "output_type": "execute_result"
    }
   ],
   "source": [
    "id(y)"
   ]
  },
  {
   "cell_type": "code",
   "execution_count": 33,
   "id": "ea20a61a-92a1-4d44-ae2d-0626ceaa5fa5",
   "metadata": {},
   "outputs": [
    {
     "name": "stdout",
     "output_type": "stream",
     "text": [
      "1\n"
     ]
    }
   ],
   "source": [
    "# multiple assignment\n",
    "a,b,c=1,2,3\n",
    "print(a)"
   ]
  },
  {
   "cell_type": "code",
   "execution_count": 35,
   "id": "aa188fee-bf27-4238-ab53-ed149319b559",
   "metadata": {},
   "outputs": [
    {
     "name": "stdout",
     "output_type": "stream",
     "text": [
      "2\n"
     ]
    }
   ],
   "source": [
    "# find the data types\n",
    "\n",
    "print(b)"
   ]
  },
  {
   "cell_type": "code",
   "execution_count": 23,
   "id": "a3589ea1-989c-49fa-b526-cd3412cc94ac",
   "metadata": {},
   "outputs": [
    {
     "name": "stdout",
     "output_type": "stream",
     "text": [
      "<class 'int'>\n"
     ]
    }
   ],
   "source": [
    "print(type(a))"
   ]
  },
  {
   "cell_type": "code",
   "execution_count": 27,
   "id": "9d9650b9-b347-413c-be65-160d12461b8b",
   "metadata": {},
   "outputs": [
    {
     "data": {
      "text/plain": [
       "str"
      ]
     },
     "execution_count": 27,
     "metadata": {},
     "output_type": "execute_result"
    }
   ],
   "source": [
    "type(str)"
   ]
  },
  {
   "cell_type": "code",
   "execution_count": 71,
   "id": "26b9ed73-08aa-49ca-9e15-cd796b70b821",
   "metadata": {},
   "outputs": [
    {
     "name": "stdout",
     "output_type": "stream",
     "text": [
      "<class 'int'>\n"
     ]
    }
   ],
   "source": [
    "# del function deletenthe variable\n",
    "\n",
    "int=11\n",
    "del(int)\n",
    "print(int)"
   ]
  },
  {
   "cell_type": "code",
   "execution_count": 13,
   "id": "f3decaae-6acf-4efe-9dd0-cf3867f38bd9",
   "metadata": {},
   "outputs": [
    {
     "name": "stdout",
     "output_type": "stream",
     "text": [
      "i love india,i like vallalar,i like arul\n"
     ]
    }
   ],
   "source": [
    "print(\"\"\"i love india,i like vallalar,i like arul\"\"\")"
   ]
  },
  {
   "cell_type": "code",
   "execution_count": 1,
   "id": "6452a53c-d89b-42eb-afdc-ad58a63ed17e",
   "metadata": {},
   "outputs": [
    {
     "name": "stdout",
     "output_type": "stream",
     "text": [
      "i love india,\n",
      "i like vallalar,\n",
      "i like arul\n"
     ]
    }
   ],
   "source": [
    "# print multiple lines in single out put\n",
    "\n",
    "print(\"\"\"i love india,\n",
    "i like vallalar,\n",
    "i like arul\"\"\")"
   ]
  },
  {
   "cell_type": "code",
   "execution_count": 11,
   "id": "f64d1be8-1c2b-4cc7-a5f2-424ce8af4338",
   "metadata": {},
   "outputs": [
    {
     "name": "stdout",
     "output_type": "stream",
     "text": [
      "i love india i like vallalar i like arul\n"
     ]
    }
   ],
   "source": [
    "print(\"i love india \\\n",
    "i like vallalar \\\n",
    "i like arul\")"
   ]
  },
  {
   "cell_type": "code",
   "execution_count": 15,
   "id": "e5e995b2-a9a9-428f-bec6-a2199a6e1a60",
   "metadata": {},
   "outputs": [
    {
     "ename": "SyntaxError",
     "evalue": "unterminated string literal (detected at line 1) (3854593606.py, line 1)",
     "output_type": "error",
     "traceback": [
      "\u001b[1;36m  Cell \u001b[1;32mIn[15], line 1\u001b[1;36m\u001b[0m\n\u001b[1;33m    print('it's ram')\u001b[0m\n\u001b[1;37m                   ^\u001b[0m\n\u001b[1;31mSyntaxError\u001b[0m\u001b[1;31m:\u001b[0m unterminated string literal (detected at line 1)\n"
     ]
    }
   ],
   "source": [
    "print('it's ram')  ## threw error due to 3 single quotations to avoid error use backslash as shown in below"
   ]
  },
  {
   "cell_type": "code",
   "execution_count": 23,
   "id": "20dba1b7-9c76-4dfe-ba16-469f3fab68f8",
   "metadata": {},
   "outputs": [
    {
     "name": "stdout",
     "output_type": "stream",
     "text": [
      "it's ram\n"
     ]
    }
   ],
   "source": [
    "print('it\\'s ram')  "
   ]
  },
  {
   "cell_type": "code",
   "execution_count": 33,
   "id": "4a04e013-43a5-49cd-9678-69946588dde8",
   "metadata": {},
   "outputs": [
    {
     "name": "stdin",
     "output_type": "stream",
     "text": [
      "enter num here:  25\n"
     ]
    },
    {
     "name": "stdout",
     "output_type": "stream",
     "text": [
      "25\n"
     ]
    }
   ],
   "source": [
    "num1 =int(input(\"enter num here: \"))\n",
    "print(num1)"
   ]
  },
  {
   "cell_type": "code",
   "execution_count": 35,
   "id": "dfe782ae-781a-46cd-ba60-b5f19c4cc207",
   "metadata": {},
   "outputs": [
    {
     "name": "stdin",
     "output_type": "stream",
     "text": [
      "enter name here:  ARUTPERUNJOTHI\n"
     ]
    },
    {
     "data": {
      "text/plain": [
       "'ARUTPERUNJOTHI'"
      ]
     },
     "execution_count": 35,
     "metadata": {},
     "output_type": "execute_result"
    }
   ],
   "source": [
    "name=input(\"enter name here: \")\n",
    "name"
   ]
  },
  {
   "cell_type": "code",
   "execution_count": 37,
   "id": "32f0a0fc-a694-4d50-9a29-9bb667600146",
   "metadata": {},
   "outputs": [
    {
     "name": "stdin",
     "output_type": "stream",
     "text": [
      "enter number here :  25\n"
     ]
    },
    {
     "data": {
      "text/plain": [
       "25.0"
      ]
     },
     "execution_count": 37,
     "metadata": {},
     "output_type": "execute_result"
    }
   ],
   "source": [
    "num2 = float(input(\"enter number here : \"))\n",
    "num2"
   ]
  },
  {
   "cell_type": "code",
   "execution_count": 47,
   "id": "8a7f5bc5-7243-4de2-9f98-f7bb049f475e",
   "metadata": {},
   "outputs": [
    {
     "name": "stdin",
     "output_type": "stream",
     "text": [
      "expression here: 2*3\n"
     ]
    },
    {
     "data": {
      "text/plain": [
       "6"
      ]
     },
     "execution_count": 47,
     "metadata": {},
     "output_type": "execute_result"
    }
   ],
   "source": [
    "# Evaluation of equation\n",
    "\n",
    "num3= eval(input(\"expression here:\"))\n",
    "num3\n"
   ]
  },
  {
   "cell_type": "code",
   "execution_count": 1,
   "id": "336c58ba-69a6-4402-afee-c186ffc3cab8",
   "metadata": {},
   "outputs": [
    {
     "ename": "TypeError",
     "evalue": "can only concatenate str (not \"int\") to str",
     "output_type": "error",
     "traceback": [
      "\u001b[1;31m---------------------------------------------------------------------------\u001b[0m",
      "\u001b[1;31mTypeError\u001b[0m                                 Traceback (most recent call last)",
      "Cell \u001b[1;32mIn[1], line 5\u001b[0m\n\u001b[0;32m      3\u001b[0m a\u001b[38;5;241m=\u001b[39m\u001b[38;5;124m\"\u001b[39m\u001b[38;5;124m23\u001b[39m\u001b[38;5;124m\"\u001b[39m\n\u001b[0;32m      4\u001b[0m b\u001b[38;5;241m=\u001b[39m\u001b[38;5;241m20\u001b[39m\n\u001b[1;32m----> 5\u001b[0m a\u001b[38;5;241m+\u001b[39mb\n",
      "\u001b[1;31mTypeError\u001b[0m: can only concatenate str (not \"int\") to str"
     ]
    }
   ],
   "source": [
    "# Explicit typecasting string can not added w/ integer error occurs.\n",
    "# changing the str datatype in to integer then addition to be done.\n",
    "\n",
    "a=\"23\"\n",
    "b=20\n",
    "a+b\n"
   ]
  },
  {
   "cell_type": "code",
   "execution_count": 9,
   "id": "0b444bb2-b64a-414e-a862-da795b50497d",
   "metadata": {},
   "outputs": [
    {
     "data": {
      "text/plain": [
       "23"
      ]
     },
     "execution_count": 9,
     "metadata": {},
     "output_type": "execute_result"
    }
   ],
   "source": [
    "a=int(a)\n",
    "a  # data type changed in to integer\n"
   ]
  },
  {
   "cell_type": "code",
   "execution_count": 11,
   "id": "5a088e97-58a4-4792-8489-f63965182406",
   "metadata": {},
   "outputs": [
    {
     "data": {
      "text/plain": [
       "43"
      ]
     },
     "execution_count": 11,
     "metadata": {},
     "output_type": "execute_result"
    }
   ],
   "source": [
    " a+b  # addition same data type "
   ]
  },
  {
   "cell_type": "code",
   "execution_count": 39,
   "id": "d4809d8e-c7f1-467c-a034-a512c4103224",
   "metadata": {},
   "outputs": [
    {
     "name": "stdout",
     "output_type": "stream",
     "text": [
      " the value of variable a is 5\n"
     ]
    }
   ],
   "source": [
    "# swaping two variables interchanging the values reassigned\n",
    "a=10\n",
    "b=5\n",
    "a,b=b,a\n",
    "print(\" the value of variable a is\",  a)"
   ]
  },
  {
   "cell_type": "code",
   "execution_count": 41,
   "id": "7443f176-a997-42e1-9cb6-c40e3b8739d3",
   "metadata": {},
   "outputs": [
    {
     "name": "stdout",
     "output_type": "stream",
     "text": [
      " the value of variable b is 10\n"
     ]
    }
   ],
   "source": [
    "print(\" the value of variable b is\",  b)"
   ]
  },
  {
   "cell_type": "code",
   "execution_count": 21,
   "id": "5ec1f8b9-e8d7-4706-8ba0-106f6a67636f",
   "metadata": {},
   "outputs": [
    {
     "name": "stdout",
     "output_type": "stream",
     "text": [
      "<class 'float'>\n"
     ]
    }
   ],
   "source": [
    "# float\n",
    "a=20.5\n",
    "print (type(a))"
   ]
  },
  {
   "cell_type": "code",
   "execution_count": 27,
   "id": "834f4e27-ca5a-478a-a0c9-112532ca839d",
   "metadata": {},
   "outputs": [
    {
     "name": "stdout",
     "output_type": "stream",
     "text": [
      "<class 'int'>\n"
     ]
    }
   ],
   "source": [
    "# conversion of float in to integer\n",
    "a=20.5\n",
    "a=int(a)\n",
    "print(type(a))"
   ]
  },
  {
   "cell_type": "code",
   "execution_count": 31,
   "id": "344d2bf1-3f78-4914-8a73-ddd687371c80",
   "metadata": {},
   "outputs": [
    {
     "data": {
      "text/plain": [
       "1"
      ]
     },
     "execution_count": 31,
     "metadata": {},
     "output_type": "execute_result"
    }
   ],
   "source": [
    "# Modulus % operator  == returns remainder \n",
    "\n",
    "a= 5\n",
    "b=2\n",
    "a % b\n"
   ]
  },
  {
   "cell_type": "code",
   "execution_count": 37,
   "id": "f80b25be-b97d-43e5-b8cc-c97f2f1669c5",
   "metadata": {},
   "outputs": [
    {
     "data": {
      "text/plain": [
       "2.5"
      ]
     },
     "execution_count": 37,
     "metadata": {},
     "output_type": "execute_result"
    }
   ],
   "source": [
    "# division operator returns quotient\n",
    "a= 5\n",
    "b=2\n",
    "a / b"
   ]
  },
  {
   "cell_type": "code",
   "execution_count": 33,
   "id": "18f5314f-58d3-4102-98a0-7d2ce83f7326",
   "metadata": {},
   "outputs": [
    {
     "data": {
      "text/plain": [
       "25"
      ]
     },
     "execution_count": 33,
     "metadata": {},
     "output_type": "execute_result"
    }
   ],
   "source": [
    "a**b"
   ]
  },
  {
   "cell_type": "code",
   "execution_count": 35,
   "id": "02d54b53-712f-4c04-86c3-84b295ac8190",
   "metadata": {},
   "outputs": [
    {
     "data": {
      "text/plain": [
       "4"
      ]
     },
     "execution_count": 35,
     "metadata": {},
     "output_type": "execute_result"
    }
   ],
   "source": [
    "# floor operator returns quotient\n",
    "\n",
    "a= 8\n",
    "b=2\n",
    "a // b"
   ]
  },
  {
   "cell_type": "code",
   "execution_count": 45,
   "id": "821c9cc6-dd89-42c8-b31f-a5bfdd32d6c3",
   "metadata": {},
   "outputs": [
    {
     "name": "stdin",
     "output_type": "stream",
     "text": [
      "enter u r name:  vallalar\n",
      "enter u r age:  infinity\n",
      "enter u r mobile:  07200980768\n"
     ]
    },
    {
     "name": "stdout",
     "output_type": "stream",
     "text": [
      " student ID card\n",
      "student name :  vallalar\n",
      "student age :  infinity\n",
      "student mobile :  07200980768\n"
     ]
    }
   ],
   "source": [
    "# writing student id card programme\n",
    "\n",
    "name=input(\"enter u r name: \" )\n",
    "age=input(\"enter u r age: \" )\n",
    "mobile=input(\"enter u r mobile: \" )\n",
    "\n",
    "print (\" student ID card\")\n",
    "\n",
    "print (\"student name : \", name)\n",
    "print (\"student age : \" ,age)\n",
    "print (\"student mobile : \" ,mobile)\n",
    "\n",
    "\n",
    "\n"
   ]
  },
  {
   "cell_type": "code",
   "execution_count": 49,
   "id": "75c68551-e5de-45eb-99e9-583187722a7c",
   "metadata": {},
   "outputs": [
    {
     "name": "stdin",
     "output_type": "stream",
     "text": [
      "enter a number: 5\n"
     ]
    },
    {
     "data": {
      "text/plain": [
       "int"
      ]
     },
     "execution_count": 49,
     "metadata": {},
     "output_type": "execute_result"
    }
   ],
   "source": [
    "# programme for conversion of integer in to float\n",
    "a= int(input(\"enter a number:\"))\n",
    "type(a)"
   ]
  },
  {
   "cell_type": "code",
   "execution_count": 51,
   "id": "815f6b93-4b6b-4de0-97f0-4129a84499df",
   "metadata": {},
   "outputs": [
    {
     "data": {
      "text/plain": [
       "float"
      ]
     },
     "execution_count": 51,
     "metadata": {},
     "output_type": "execute_result"
    }
   ],
   "source": [
    "a=float(a)\n",
    "type(a)"
   ]
  },
  {
   "cell_type": "code",
   "execution_count": 13,
   "id": "c012e038-7334-42af-8087-ea032cc1bc50",
   "metadata": {},
   "outputs": [
    {
     "data": {
      "text/plain": [
       "'Role:Data analyst'"
      ]
     },
     "execution_count": 13,
     "metadata": {},
     "output_type": "execute_result"
    }
   ],
   "source": [
    "# strings in key value format strings\n",
    "\n",
    "role ='Data analyst'\n",
    "skill ='Python'\n",
    "\n",
    "\"Role:{}\".format(role)\n"
   ]
  },
  {
   "cell_type": "code",
   "execution_count": 71,
   "id": "5a37c296-e91e-4149-b7d3-ca412345aea4",
   "metadata": {},
   "outputs": [
    {
     "data": {
      "text/plain": [
       "'Role:{role},Skill required:{skill}'"
      ]
     },
     "execution_count": 71,
     "metadata": {},
     "output_type": "execute_result"
    }
   ],
   "source": [
    "# key value\n",
    "role ='Data analyst'\n",
    "skill ='Python'\n",
    "\"Role:{role},Skill required:{skill}\""
   ]
  },
  {
   "cell_type": "code",
   "execution_count": 17,
   "id": "b8f4e491-7677-4ae5-be32-153ca384b290",
   "metadata": {},
   "outputs": [
    {
     "data": {
      "text/plain": [
       "'1,2,3,4,5,6,7,8'"
      ]
     },
     "execution_count": 17,
     "metadata": {},
     "output_type": "execute_result"
    }
   ],
   "source": [
    "# joining the string\n",
    "Y_exp=\"12345678\"\n",
    "\",\".join(Y_exp)"
   ]
  },
  {
   "cell_type": "code",
   "execution_count": 21,
   "id": "be0e2ced-ebd2-4e7b-9600-ecd1c0883803",
   "metadata": {},
   "outputs": [
    {
     "data": {
      "text/plain": [
       "list"
      ]
     },
     "execution_count": 21,
     "metadata": {},
     "output_type": "execute_result"
    }
   ],
   "source": [
    "prog=['pyth','pycharm','numpy']\n",
    "type(prog)"
   ]
  },
  {
   "cell_type": "code",
   "execution_count": 27,
   "id": "a97a5bd7-0ed8-4fae-9dbe-ace606b0ec90",
   "metadata": {},
   "outputs": [
    {
     "data": {
      "text/plain": [
       "'pyth,pycharm,numpy'"
      ]
     },
     "execution_count": 27,
     "metadata": {},
     "output_type": "execute_result"
    }
   ],
   "source": [
    "\",\".join(prog)\n"
   ]
  },
  {
   "cell_type": "code",
   "execution_count": 33,
   "id": "cfd3b482-9029-49fd-8e30-3207686f99fe",
   "metadata": {},
   "outputs": [
    {
     "data": {
      "text/plain": [
       "'Atutperunjothi'"
      ]
     },
     "execution_count": 33,
     "metadata": {},
     "output_type": "execute_result"
    }
   ],
   "source": [
    "str1=\"atutperunjothi\"\n",
    "str2 = str1.capitalize() # capitalise the first string\n",
    "str2"
   ]
  },
  {
   "cell_type": "code",
   "execution_count": 39,
   "id": "c389cb29-4830-4e19-8641-d9a5934fb62c",
   "metadata": {},
   "outputs": [
    {
     "name": "stdout",
     "output_type": "stream",
     "text": [
      "occurences 2\n"
     ]
    }
   ],
   "source": [
    "str1=\"atutperunjothi\"\n",
    "str2 = str1.count('u') # number of times used in string\n",
    "print(\"occurences\",str2)"
   ]
  },
  {
   "cell_type": "code",
   "execution_count": 41,
   "id": "f30264b9-c00c-4fdb-9417-7883459898f9",
   "metadata": {},
   "outputs": [
    {
     "data": {
      "text/plain": [
       "11"
      ]
     },
     "execution_count": 41,
     "metadata": {},
     "output_type": "execute_result"
    }
   ],
   "source": [
    "# calling functions\n",
    "str3 = \"welcome to siddivilakam\"\n",
    "str2 = str3.find(\"siddivilakam\") # returns index of the string\n",
    "str2\n"
   ]
  },
  {
   "cell_type": "code",
   "execution_count": 49,
   "id": "606bfc68-eaaf-4c17-84f1-fa89a406eb4d",
   "metadata": {},
   "outputs": [
    {
     "data": {
      "text/plain": [
       "True"
      ]
     },
     "execution_count": 49,
     "metadata": {},
     "output_type": "execute_result"
    }
   ],
   "source": [
    "str1.isalpha()  # calling function to verify alphabets\n",
    "str1.isalnum()   # calling  function to verify alpha numeric"
   ]
  },
  {
   "cell_type": "code",
   "execution_count": 51,
   "id": "4ba11f60-4eb0-4843-8da0-98329c90db29",
   "metadata": {},
   "outputs": [
    {
     "data": {
      "text/plain": [
       "True"
      ]
     },
     "execution_count": 51,
     "metadata": {},
     "output_type": "execute_result"
    }
   ],
   "source": [
    "str1.isalnum()   # calling  function to verify alpha numeric"
   ]
  },
  {
   "cell_type": "code",
   "execution_count": 59,
   "id": "6ee58705-d82d-460f-9f45-dc16233b0238",
   "metadata": {},
   "outputs": [
    {
     "data": {
      "text/plain": [
       "True"
      ]
     },
     "execution_count": 59,
     "metadata": {},
     "output_type": "execute_result"
    }
   ],
   "source": [
    "str4 = \"1234arul\"\n",
    "str4.isalnum()   # calling  function to verify alpha numeric"
   ]
  },
  {
   "cell_type": "code",
   "execution_count": 63,
   "id": "409c4f36-ac85-4215-ac9f-cbc26d500138",
   "metadata": {},
   "outputs": [
    {
     "data": {
      "text/plain": [
       "False"
      ]
     },
     "execution_count": 63,
     "metadata": {},
     "output_type": "execute_result"
    }
   ],
   "source": [
    "str5 = \"1234aru$$\"\n",
    "str5.isalnum()   #  verify alpha numeric special character so that return false"
   ]
  },
  {
   "cell_type": "code",
   "execution_count": 65,
   "id": "b6aa70f5-1b8a-47d8-8c60-9d80b3e7c9a0",
   "metadata": {},
   "outputs": [
    {
     "data": {
      "text/plain": [
       "False"
      ]
     },
     "execution_count": 65,
     "metadata": {},
     "output_type": "execute_result"
    }
   ],
   "source": [
    "str4 = \"1234arul\"\n",
    "str4.isdigit()  # verify for digit numeric or integer"
   ]
  },
  {
   "cell_type": "code",
   "execution_count": 67,
   "id": "3fba1c43-ed63-4bf0-8ec4-bbb384627b45",
   "metadata": {},
   "outputs": [
    {
     "data": {
      "text/plain": [
       "'ATUTPERUNJOTHI'"
      ]
     },
     "execution_count": 67,
     "metadata": {},
     "output_type": "execute_result"
    }
   ],
   "source": [
    "str1=\"atutperunjothi\"\n",
    "str1.upper()  # return upper case\n",
    "str1.lower()  # return lower case"
   ]
  },
  {
   "cell_type": "code",
   "execution_count": 5,
   "id": "9c30d06a-c7e8-464b-b92b-87ccbd49830b",
   "metadata": {},
   "outputs": [
    {
     "name": "stdout",
     "output_type": "stream",
     "text": [
      "print the God name: atutperunjothi\n"
     ]
    }
   ],
   "source": [
    "# print the string\n",
    "str1=\"atutperunjothi\"\n",
    "print(\"print the God name: % s\" %(str1))"
   ]
  },
  {
   "cell_type": "code",
   "execution_count": 25,
   "id": "68571360-1035-4f1c-958d-2f4d3ef161af",
   "metadata": {},
   "outputs": [
    {
     "ename": "TypeError",
     "evalue": "'str' object is not callable",
     "output_type": "error",
     "traceback": [
      "\u001b[1;31m---------------------------------------------------------------------------\u001b[0m",
      "\u001b[1;31mTypeError\u001b[0m                                 Traceback (most recent call last)",
      "Cell \u001b[1;32mIn[25], line 3\u001b[0m\n\u001b[0;32m      1\u001b[0m \u001b[38;5;66;03m#typecasting conversion of data type to another data type\u001b[39;00m\n\u001b[0;32m      2\u001b[0m str6\u001b[38;5;241m=\u001b[39m\u001b[38;5;124m'\u001b[39m\u001b[38;5;124m3,4\u001b[39m\u001b[38;5;124m'\u001b[39m\n\u001b[1;32m----> 3\u001b[0m str6(\u001b[38;5;241m3\u001b[39m\u001b[38;5;241m+\u001b[39m\u001b[38;5;241m4\u001b[39m)\n",
      "\u001b[1;31mTypeError\u001b[0m: 'str' object is not callable"
     ]
    }
   ],
   "source": [
    "#typecasting conversion of data type to another data type\n",
    "str6='3,4'\n",
    "str6(3+4)\n",
    "\n"
   ]
  },
  {
   "cell_type": "code",
   "execution_count": 33,
   "id": "7b53521b-4614-49ce-aa07-fb413a8906e2",
   "metadata": {},
   "outputs": [
    {
     "name": "stdin",
     "output_type": "stream",
     "text": [
      "enter the number 8\n"
     ]
    },
    {
     "name": "stdout",
     "output_type": "stream",
     "text": [
      "Even number\n"
     ]
    }
   ],
   "source": [
    "# condition statement if\n",
    "\n",
    "num1 = int(input(\"enter the number\"))\n",
    "if num1 % 2==0:\n",
    "     print(\"Even number\")\n",
    "           \n"
   ]
  },
  {
   "cell_type": "code",
   "execution_count": 35,
   "id": "ed6bdca1-5871-43ff-8f6c-b3f107dd705f",
   "metadata": {},
   "outputs": [
    {
     "name": "stdin",
     "output_type": "stream",
     "text": [
      "enter the number 7\n"
     ]
    }
   ],
   "source": [
    "# condition statement if\n",
    "\n",
    "num1 = int(input(\"enter the number\"))\n",
    "if num1 % 2==0:\n",
    "     print(\"Even number\")"
   ]
  },
  {
   "cell_type": "code",
   "execution_count": 40,
   "id": "0b2b50ff-0eda-4606-a460-be7fc7db685d",
   "metadata": {},
   "outputs": [
    {
     "name": "stdin",
     "output_type": "stream",
     "text": [
      "enter the number 7\n"
     ]
    },
    {
     "name": "stdout",
     "output_type": "stream",
     "text": [
      "odd number\n"
     ]
    }
   ],
   "source": [
    "# condition statement if else\n",
    "\n",
    "num1 = int(input(\"enter the number\"))\n",
    "if num1 % 2==0:\n",
    "     print(\"Even number\")\n",
    "else:\n",
    "    print(\"odd number\")\n",
    "  "
   ]
  },
  {
   "cell_type": "code",
   "execution_count": 53,
   "id": "636407f6-fab3-4bb0-a67e-babba1bb94c2",
   "metadata": {},
   "outputs": [
    {
     "name": "stdin",
     "output_type": "stream",
     "text": [
      "enter the number: 5\n"
     ]
    },
    {
     "name": "stdout",
     "output_type": "stream",
     "text": [
      "num is not equal to 10,30,50\n"
     ]
    }
   ],
   "source": [
    "# elif conditions\n",
    "\n",
    "num2=int(input(\"enter the number:\"))\n",
    "if num2==10:\n",
    "    print(\"number is equal 10\")\n",
    "elif num2==30:\n",
    "    print(\"num is equal to 30\")\n",
    "elif num2 == 50:\n",
    "    print(\"num is equal to 50\")\n",
    "else:\n",
    "    print(\"num is not equal to 10,30,50\")\n",
    "    \n"
   ]
  },
  {
   "cell_type": "code",
   "execution_count": null,
   "id": "95ba5bda-f53c-4648-a646-d23dda35f5a9",
   "metadata": {},
   "outputs": [],
   "source": []
  }
 ],
 "metadata": {
  "kernelspec": {
   "display_name": "Python 3 (ipykernel)",
   "language": "python",
   "name": "python3"
  },
  "language_info": {
   "codemirror_mode": {
    "name": "ipython",
    "version": 3
   },
   "file_extension": ".py",
   "mimetype": "text/x-python",
   "name": "python",
   "nbconvert_exporter": "python",
   "pygments_lexer": "ipython3",
   "version": "3.12.4"
  }
 },
 "nbformat": 4,
 "nbformat_minor": 5
}
