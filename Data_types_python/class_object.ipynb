{
 "cells": [
  {
   "cell_type": "code",
   "execution_count": 56,
   "id": "9bc0d759-3a5a-46b3-a0a0-2b1a64919b15",
   "metadata": {},
   "outputs": [
    {
     "name": "stdout",
     "output_type": "stream",
     "text": [
      "Moves long...!!!\n"
     ]
    }
   ],
   "source": [
    "# simple function my car object added\n",
    "class vehicle:\n",
    "    def moves(self): \n",
    "        print(\"Moves long...!!!\")\n",
    "my_car = vehicle()\n",
    "my_car.moves()\n",
    "\n",
    "    \n",
    "    "
   ]
  },
  {
   "cell_type": "code",
   "execution_count": 69,
   "id": "f1f00e32-942e-48a4-a384-34665ef54f5f",
   "metadata": {},
   "outputs": [
    {
     "name": "stdout",
     "output_type": "stream",
     "text": [
      "Moves long...!!!\n",
      "TATA\n",
      "BLUE\n"
     ]
    }
   ],
   "source": [
    "# initialiser added object properties and my car object added\n",
    "\n",
    "class vehicle:\n",
    "    def __init__(self,make,color):\n",
    "        self.make = make\n",
    "        self.color = color\n",
    "        \n",
    "    def moves(self): \n",
    "        print(\"Moves long...!!!\")\n",
    "        \n",
    "my_car = vehicle(\"TATA\",\"BLUE\")\n",
    "\n",
    "my_car.moves()\n",
    "print(my_car.make)\n",
    "print(my_car.color)"
   ]
  },
  {
   "cell_type": "code",
   "execution_count": 79,
   "id": "c2181bfa-e982-4d85-978c-c492e749d197",
   "metadata": {},
   "outputs": [
    {
     "name": "stdout",
     "output_type": "stream",
     "text": [
      "Moves long...!!!\n",
      "TATA\n",
      "BLUE\n",
      "i am made by TATA color of BLUE.\n"
     ]
    }
   ],
   "source": [
    "# your car object get model added\n",
    "class vehicle:\n",
    "    def __init__(self,make,color):\n",
    "        self.make = make\n",
    "        self.color = color\n",
    "        \n",
    "    def moves(self): \n",
    "        print(\"Moves long...!!!\")\n",
    "        \n",
    "    def get_model(self):\n",
    "        print(f\"i am made by {self.make} color of {self.color}.\")\n",
    "        \n",
    "        \n",
    "my_car = vehicle(\"TATA\",\"BLUE\")\n",
    "\n",
    "my_car.moves()\n",
    "print(my_car.make)\n",
    "print(my_car.color)\n",
    "my_car.get_model()"
   ]
  },
  {
   "cell_type": "code",
   "execution_count": 85,
   "id": "86eae0ee-3b08-4acc-a405-77c417134bc7",
   "metadata": {},
   "outputs": [
    {
     "name": "stdout",
     "output_type": "stream",
     "text": [
      "Moves long...!!!\n",
      "i am made by TATA color of BLUE.\n",
      "TATA\n",
      "BLUE\n",
      "i am made by Nissan color of Gold.\n",
      "Nissan\n"
     ]
    }
   ],
   "source": [
    "## object your car added verified for move, get model functions\n",
    "\n",
    "class vehicle:\n",
    "    def __init__(self,make,color):\n",
    "        self.make = make\n",
    "        self.color = color\n",
    "        \n",
    "    def moves(self): \n",
    "        print(\"Moves long...!!!\")\n",
    "        \n",
    "        \n",
    "    def get_model(self):\n",
    "        print(f\"i am made by {self.make} color of {self.color}.\")\n",
    "        \n",
    "        \n",
    "my_car = vehicle(\"TATA\",\"BLUE\")\n",
    "my_car.moves()\n",
    "my_car.get_model()\n",
    "print(my_car.make)\n",
    "print(my_car.color)\n",
    "\n",
    "your_car = vehicle(\"Nissan\",\"Gold\")\n",
    "your_car.get_model()\n",
    "print(your_car.make)\n"
   ]
  },
  {
   "cell_type": "code",
   "execution_count": null,
   "id": "ecced8e4-33f6-4275-8460-d6d1edda91a5",
   "metadata": {},
   "outputs": [],
   "source": []
  }
 ],
 "metadata": {
  "kernelspec": {
   "display_name": "Python 3 (ipykernel)",
   "language": "python",
   "name": "python3"
  },
  "language_info": {
   "codemirror_mode": {
    "name": "ipython",
    "version": 3
   },
   "file_extension": ".py",
   "mimetype": "text/x-python",
   "name": "python",
   "nbconvert_exporter": "python",
   "pygments_lexer": "ipython3",
   "version": "3.12.4"
  }
 },
 "nbformat": 4,
 "nbformat_minor": 5
}
