{
 "cells": [
  {
   "cell_type": "code",
   "execution_count": 1,
   "id": "6f490b79-420b-4599-93d1-5781a94cea2d",
   "metadata": {},
   "outputs": [
    {
     "name": "stdout",
     "output_type": "stream",
     "text": [
      "9\n"
     ]
    },
    {
     "data": {
      "text/plain": [
       "20"
      ]
     },
     "execution_count": 1,
     "metadata": {},
     "output_type": "execute_result"
    }
   ],
   "source": [
    "# CLOSURE scope ---- it is a function. having access to the scope of its parent function \n",
    "# after parent function is executed.\n",
    "\n",
    "def multiplier_of(n):\n",
    "    def multiplier(x):\n",
    "        return n * x\n",
    "    return multiplier\n",
    "time3 =multiplier_of(3)\n",
    "time5 =multiplier_of(5)\n",
    "print(time3(3))\n",
    "time5(4)\n"
   ]
  },
  {
   "cell_type": "code",
   "execution_count": 2,
   "id": "d4071ef7-57d1-4b7b-8543-045dd1e26d58",
   "metadata": {},
   "outputs": [
    {
     "name": "stdout",
     "output_type": "stream",
     "text": [
      "nameError probably it is undefined\n"
     ]
    }
   ],
   "source": [
    "# function try ,,,, exception\n",
    "\n",
    "\n",
    "try:\n",
    "    print(x)  # if x is not defined the error message shoul print\n",
    "except NameError:\n",
    "    print(\"nameError probably it is undefined\")    \n",
    "\n",
    "\n"
   ]
  },
  {
   "cell_type": "code",
   "execution_count": 3,
   "id": "4de09b49-cdde-4700-ab8d-72e178fbe36b",
   "metadata": {},
   "outputs": [
    {
     "name": "stdout",
     "output_type": "stream",
     "text": [
      "3\n",
      "No Errpr\n"
     ]
    }
   ],
   "source": [
    "# function try ,,,, exception\n",
    "\n",
    "x=3\n",
    "try:\n",
    "    print(x)  # if x is  defined No error message shoul print\n",
    "except NameError:\n",
    "    print(\"nameError probably it is undefined\") \n",
    "except exception as error:\n",
    "    print(error)\n",
    "else:\n",
    "    print(\"No Errpr\")\n",
    "\n",
    "\n"
   ]
  },
  {
   "cell_type": "code",
   "execution_count": 4,
   "id": "5d4a1ef1-e6d6-4dc9-9609-7a5cb59cb4dc",
   "metadata": {},
   "outputs": [
    {
     "name": "stdout",
     "output_type": "stream",
     "text": [
      "3\n",
      "No Errpr\n",
      "I am going to print with or without error message\n"
     ]
    }
   ],
   "source": [
    "# function try ,,,, exception___-finally\n",
    "\n",
    "x=3\n",
    "try:\n",
    "    print(x)  # if x is  defined No error message shoul print\n",
    "except NameError:\n",
    "    print(\"nameError probably it is undefined\") \n",
    "except exception as error:\n",
    "    print(error)\n",
    "else:\n",
    "    print(\"No Errpr\")\n",
    "finally:\n",
    "    print(\"I am going to print with or without error message\")\n",
    "    \n",
    "\n",
    "\n"
   ]
  },
  {
   "cell_type": "code",
   "execution_count": 11,
   "id": "d65b90cd-0220-4a33-804f-41fa96734568",
   "metadata": {},
   "outputs": [
    {
     "name": "stdout",
     "output_type": "stream",
     "text": [
      " do not divide the number by zero\n",
      "I am going to print with or without error message\n"
     ]
    }
   ],
   "source": [
    "# function zero division error try ,,,, exception___-finally\n",
    "\n",
    "x=3\n",
    "try:\n",
    "    print(x/0)  # if x divide by zero the second code zero division error will display\n",
    "except NameError:\n",
    "    print(\"nameError probably it is undefined\") \n",
    "except ZeroDivisionError:\n",
    "    print(\" do not divide the number by zero\")\n",
    "except exception as error:\n",
    "    print(error)\n",
    "else:\n",
    "    print(\"No Errpr\")\n",
    "finally:\n",
    "    print(\"I am going to print with or without error message\")\n",
    "    \n",
    "\n",
    "\n"
   ]
  },
  {
   "cell_type": "code",
   "execution_count": null,
   "id": "40778922-9432-4a16-80e5-792c1fe03f61",
   "metadata": {},
   "outputs": [],
   "source": []
  }
 ],
 "metadata": {
  "kernelspec": {
   "display_name": "Python 3 (ipykernel)",
   "language": "python",
   "name": "python3"
  },
  "language_info": {
   "codemirror_mode": {
    "name": "ipython",
    "version": 3
   },
   "file_extension": ".py",
   "mimetype": "text/x-python",
   "name": "python",
   "nbconvert_exporter": "python",
   "pygments_lexer": "ipython3",
   "version": "3.12.4"
  }
 },
 "nbformat": 4,
 "nbformat_minor": 5
}
