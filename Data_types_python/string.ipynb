{
 "cells": [
  {
   "cell_type": "code",
   "execution_count": 3,
   "id": "4b9d0ba1-3e62-4b63-83d0-ba0748b72322",
   "metadata": {},
   "outputs": [
    {
     "data": {
      "text/plain": [
       "'welcome to dharmasalai,\\n        Gnanughsabai,\\n        Sidhivalakam'"
      ]
     },
     "execution_count": 3,
     "metadata": {},
     "output_type": "execute_result"
    }
   ],
   "source": [
    "# string ==Sequence of characters enclosed with single / double / triple -multiline string/quotes\n",
    "\n",
    "str1=\"welcome to dharmasalai\"\n",
    "str1\n",
    "\n",
    "str2 =\"\"\"welcome to dharmasalai,\n",
    "        Gnanughsabai,\n",
    "        Sidhivalakam\"\"\"\n",
    "str2\n",
    "# three lines created for triple quotes backward slash means new line\n",
    "\n"
   ]
  },
  {
   "cell_type": "code",
   "execution_count": null,
   "id": "c78cafc7-6ab6-4761-b04b-5d673e40767e",
   "metadata": {},
   "outputs": [
    {
     "data": {
      "text/plain": [
       "'w'"
      ]
     },
     "execution_count": 4,
     "metadata": {},
     "output_type": "execute_result"
    }
   ],
   "source": [
    "#Extracting individual characters\n",
    "str1[0] # index shows the first character"
   ]
  },
  {
   "cell_type": "code",
   "execution_count": null,
   "id": "7823b893-74c2-4083-a63d-d83096513c37",
   "metadata": {},
   "outputs": [
    {
     "data": {
      "text/plain": [
       "'i'"
      ]
     },
     "execution_count": 5,
     "metadata": {},
     "output_type": "execute_result"
    }
   ],
   "source": [
    "str1[-1]  # extract reversely last character"
   ]
  },
  {
   "cell_type": "code",
   "execution_count": null,
   "id": "ebd5b650-87c8-46b2-b529-12a6ced685b1",
   "metadata": {},
   "outputs": [
    {
     "data": {
      "text/plain": [
       "22"
      ]
     },
     "execution_count": 6,
     "metadata": {},
     "output_type": "execute_result"
    }
   ],
   "source": [
    "# finding length of string\n",
    "len(str1)"
   ]
  },
  {
   "cell_type": "code",
   "execution_count": null,
   "id": "a4091f55-6e60-48af-a304-989051fc7e47",
   "metadata": {},
   "outputs": [
    {
     "data": {
      "text/plain": [
       "'WELCOME TO DHARMASALAI'"
      ]
     },
     "execution_count": 7,
     "metadata": {},
     "output_type": "execute_result"
    }
   ],
   "source": [
    "# converting of string to lower  / upper case\n",
    "str1.lower()\n",
    "str1.upper()"
   ]
  },
  {
   "cell_type": "code",
   "execution_count": 8,
   "id": "040325a4-cafe-47fc-ae53-b9a3cfe948a8",
   "metadata": {},
   "outputs": [
    {
     "data": {
      "text/plain": [
       "'yelcome to dharmasalai'"
      ]
     },
     "execution_count": 8,
     "metadata": {},
     "output_type": "execute_result"
    }
   ],
   "source": [
    "#replacing the string\n",
    "\n",
    "str1.replace(\"w\",\"y\")\n"
   ]
  },
  {
   "cell_type": "code",
   "execution_count": 9,
   "id": "32678598-25a6-4d4d-8974-4bb900d75bae",
   "metadata": {},
   "outputs": [
    {
     "data": {
      "text/plain": [
       "2"
      ]
     },
     "execution_count": 9,
     "metadata": {},
     "output_type": "execute_result"
    }
   ],
   "source": [
    "# number of occurences of substring\n",
    "str2=\"Hello Hello dharmasalai\"\n",
    "str2.count(\"Hello\")\n"
   ]
  },
  {
   "cell_type": "code",
   "execution_count": null,
   "id": "fef3a85d-bc34-471e-91d6-f2a7deba7c37",
   "metadata": {},
   "outputs": [
    {
     "data": {
      "text/plain": [
       "11"
      ]
     },
     "execution_count": 10,
     "metadata": {},
     "output_type": "execute_result"
    }
   ],
   "source": [
    "# index of substring\n",
    "str1.find(\"dharmasalai\")"
   ]
  },
  {
   "cell_type": "code",
   "execution_count": null,
   "id": "9ca7ee1d-62ec-47ee-85c0-25a10722b8cf",
   "metadata": {},
   "outputs": [
    {
     "data": {
      "text/plain": [
       "['i', 'like', 'cricket,bat,stump,gloves,ball']"
      ]
     },
     "execution_count": 11,
     "metadata": {},
     "output_type": "execute_result"
    }
   ],
   "source": [
    "# splitting of string\n",
    "kit=\"i like cricket,bat,stump,gloves,ball\"\n",
    "\n",
    "kit.split()"
   ]
  },
  {
   "cell_type": "code",
   "execution_count": 12,
   "id": "35c86111-ec6c-4831-8c93-9508cf6a3950",
   "metadata": {},
   "outputs": [
    {
     "data": {
      "text/plain": [
       "list"
      ]
     },
     "execution_count": 12,
     "metadata": {},
     "output_type": "execute_result"
    }
   ],
   "source": [
    "kit.split(\",\")\n",
    "type(kit.split(\",\"))"
   ]
  },
  {
   "cell_type": "code",
   "execution_count": null,
   "id": "3e296d10-6cda-477e-9704-1e13dab078f0",
   "metadata": {},
   "outputs": [
    {
     "data": {
      "text/plain": [
       "list"
      ]
     },
     "execution_count": 13,
     "metadata": {},
     "output_type": "execute_result"
    }
   ],
   "source": [
    "type(kit.split(\",\"))"
   ]
  },
  {
   "cell_type": "code",
   "execution_count": null,
   "id": "0d77bf66-49a8-461f-bdf6-5784e0a75767",
   "metadata": {},
   "outputs": [
    {
     "data": {
      "text/plain": [
       "['siddhi', 'gnanugh', True]"
      ]
     },
     "execution_count": 14,
     "metadata": {},
     "output_type": "execute_result"
    }
   ],
   "source": [
    "# list is collection of different elements inside the []\n",
    "# Extracting the list values by index\n",
    "list1 =[\"darama\",\"siddhi\",\"gnanugh\",True,1,2,3]\n",
    "list1[1:4]\n",
    "\n"
   ]
  },
  {
   "cell_type": "code",
   "execution_count": 15,
   "id": "f83132f2-a7ee-454b-97ac-98bed946e2a7",
   "metadata": {},
   "outputs": [
    {
     "data": {
      "text/plain": [
       "3"
      ]
     },
     "execution_count": 15,
     "metadata": {},
     "output_type": "execute_result"
    }
   ],
   "source": [
    "list1[-1]"
   ]
  },
  {
   "cell_type": "code",
   "execution_count": 16,
   "id": "1363f7f1-3972-4b77-9875-5669213bd64a",
   "metadata": {},
   "outputs": [
    {
     "data": {
      "text/plain": [
       "['darama', 'siddhi', 'gnanugh', True, 1, 2, 3, '10']"
      ]
     },
     "execution_count": 16,
     "metadata": {},
     "output_type": "execute_result"
    }
   ],
   "source": [
    "#appending the new element as last index\n",
    "list1.append(\"10\")\n",
    "list1  # 10 added"
   ]
  },
  {
   "cell_type": "code",
   "execution_count": 17,
   "id": "13b15641-0a34-4d3f-8153-9ea8516286bf",
   "metadata": {},
   "outputs": [
    {
     "data": {
      "text/plain": [
       "'10'"
      ]
     },
     "execution_count": 17,
     "metadata": {},
     "output_type": "execute_result"
    }
   ],
   "source": [
    "#poping the new element as last index\n",
    "list1.pop()  # last index is sabai\n",
    " "
   ]
  },
  {
   "cell_type": "code",
   "execution_count": 18,
   "id": "37de1e57-57db-40e7-9b8a-10fc61a4f12d",
   "metadata": {},
   "outputs": [
    {
     "data": {
      "text/plain": [
       "['darama', 'siddhi', 'gnanugh', True, 1, 2]"
      ]
     },
     "execution_count": 18,
     "metadata": {},
     "output_type": "execute_result"
    }
   ],
   "source": [
    "list1.pop()\n",
    "list1   # last index is sabai removed"
   ]
  },
  {
   "cell_type": "code",
   "execution_count": 19,
   "id": "5e00e283-7350-455f-8370-4328c502524f",
   "metadata": {},
   "outputs": [
    {
     "data": {
      "text/plain": [
       "[2, 1, True, 'gnanugh', 'siddhi', 'darama']"
      ]
     },
     "execution_count": 19,
     "metadata": {},
     "output_type": "execute_result"
    }
   ],
   "source": [
    "# reversing the element\n",
    "list1.reverse()\n",
    "list1\n"
   ]
  },
  {
   "cell_type": "code",
   "execution_count": 20,
   "id": "d428a193-0403-4f5d-a19e-13aaaccdb650",
   "metadata": {},
   "outputs": [
    {
     "data": {
      "text/plain": [
       "['siddihivilakam', 2, 1, True, 'gnanugh', 'siddhi', 'darama']"
      ]
     },
     "execution_count": 20,
     "metadata": {},
     "output_type": "execute_result"
    }
   ],
   "source": [
    "# inserting  the element\n",
    "\n",
    "list1.insert(0,\"siddihivilakam\")\n",
    "list1"
   ]
  },
  {
   "cell_type": "code",
   "execution_count": 21,
   "id": "8166ad60-863f-44ca-8cbf-f56be7890288",
   "metadata": {},
   "outputs": [
    {
     "data": {
      "text/plain": [
       "[1, 2, 3, 4, 5]"
      ]
     },
     "execution_count": 21,
     "metadata": {},
     "output_type": "execute_result"
    }
   ],
   "source": [
    "# sorting the element\n",
    "l2=[1,2,5,4,3]\n",
    "l2.sort()\n",
    "l2"
   ]
  },
  {
   "cell_type": "code",
   "execution_count": 22,
   "id": "b9000904-f415-48a2-aa8a-02ddf9b741a8",
   "metadata": {},
   "outputs": [
    {
     "data": {
      "text/plain": [
       "['a', 'b', 'c', 'd', 'e']"
      ]
     },
     "execution_count": 22,
     "metadata": {},
     "output_type": "execute_result"
    }
   ],
   "source": [
    "l3=[\"a\",\"c\",\"e\",\"d\",\"b\"]\n",
    "l3.sort()\n",
    "l3"
   ]
  },
  {
   "cell_type": "code",
   "execution_count": 23,
   "id": "75fa7734-d3f3-42cd-882d-82f9a0d02423",
   "metadata": {},
   "outputs": [
    {
     "data": {
      "text/plain": [
       "[1, 2, 3, 4, 5, 'a', 'b', 'c', 'd', 'e']"
      ]
     },
     "execution_count": 23,
     "metadata": {},
     "output_type": "execute_result"
    }
   ],
   "source": [
    "#concatenating list\n",
    "l2+l3\n"
   ]
  },
  {
   "cell_type": "code",
   "execution_count": 24,
   "id": "8be7c73f-1b1c-470e-a520-bb973178fb6a",
   "metadata": {},
   "outputs": [
    {
     "data": {
      "text/plain": [
       "[1, 2, 3, 4, 5, 1, 2, 3, 4, 5]"
      ]
     },
     "execution_count": 24,
     "metadata": {},
     "output_type": "execute_result"
    }
   ],
   "source": [
    "l4=[1, 2, 3, 4, 5]\n",
    "l2+l4"
   ]
  },
  {
   "cell_type": "code",
   "execution_count": 32,
   "id": "7d46eaeb-7881-4382-86c5-28374a4b4fe3",
   "metadata": {},
   "outputs": [
    {
     "data": {
      "text/plain": [
       "['siddihivilakam',\n",
       " 2,\n",
       " 1,\n",
       " True,\n",
       " 'gnanugh',\n",
       " 'siddhi',\n",
       " 'darama',\n",
       " 'siddihivilakam',\n",
       " 2,\n",
       " 1,\n",
       " True,\n",
       " 'gnanugh',\n",
       " 'siddhi',\n",
       " 'darama',\n",
       " 'siddihivilakam',\n",
       " 2,\n",
       " 1,\n",
       " True,\n",
       " 'gnanugh',\n",
       " 'siddhi',\n",
       " 'darama']"
      ]
     },
     "execution_count": 32,
     "metadata": {},
     "output_type": "execute_result"
    }
   ],
   "source": [
    "#repeating elements\n",
    "l2*3\n",
    "l3*3\n",
    "list1*3"
   ]
  },
  {
   "cell_type": "code",
   "execution_count": null,
   "id": "d518a71c-3abe-4e3a-83b7-a65cda614fc9",
   "metadata": {},
   "outputs": [],
   "source": [
    "# Tuples==single value inside the variable, different data types/cannot change the value after creation\n"
   ]
  }
 ],
 "metadata": {
  "kernelspec": {
   "display_name": "Python 3 (ipykernel)",
   "language": "python",
   "name": "python3"
  },
  "language_info": {
   "codemirror_mode": {
    "name": "ipython",
    "version": 3
   },
   "file_extension": ".py",
   "mimetype": "text/x-python",
   "name": "python",
   "nbconvert_exporter": "python",
   "pygments_lexer": "ipython3",
   "version": "3.12.4"
  }
 },
 "nbformat": 4,
 "nbformat_minor": 5
}
