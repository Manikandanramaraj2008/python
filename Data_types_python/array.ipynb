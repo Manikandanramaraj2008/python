{
 "cells": [
  {
   "cell_type": "code",
   "execution_count": 9,
   "id": "407c42e9-ce9f-45f9-a338-a90bb80381a2",
   "metadata": {},
   "outputs": [],
   "source": [
    "import numpy as np\n"
   ]
  },
  {
   "cell_type": "code",
   "execution_count": 10,
   "id": "53f67832-bee8-4e4e-baaa-42efa2505757",
   "metadata": {},
   "outputs": [
    {
     "name": "stdout",
     "output_type": "stream",
     "text": [
      "array [1 2 3]\n"
     ]
    }
   ],
   "source": [
    "arr=np.array([1,2,3])\n",
    "print(\"array\",arr)\n"
   ]
  },
  {
   "cell_type": "code",
   "execution_count": 11,
   "id": "4b8eefa5-41fe-43d2-9679-afd74dd5e8b7",
   "metadata": {},
   "outputs": [
    {
     "data": {
      "text/plain": [
       "[10, 10, 10]"
      ]
     },
     "execution_count": 11,
     "metadata": {},
     "output_type": "execute_result"
    }
   ],
   "source": [
    "l1=[10]*3\n",
    "l1"
   ]
  },
  {
   "cell_type": "code",
   "execution_count": 12,
   "id": "65486c80-6826-4a5e-8675-d711875c8173",
   "metadata": {},
   "outputs": [
    {
     "data": {
      "text/plain": [
       "['h', 'e', 'l', 'l', 'o']"
      ]
     },
     "execution_count": 12,
     "metadata": {},
     "output_type": "execute_result"
    }
   ],
   "source": [
    "l2=list(\"hello\")\n",
    "l2"
   ]
  },
  {
   "cell_type": "code",
   "execution_count": 13,
   "id": "2e73a44c-7d44-4629-bf73-07234c91f522",
   "metadata": {},
   "outputs": [
    {
     "name": "stdout",
     "output_type": "stream",
     "text": [
      "e\n",
      "o\n"
     ]
    }
   ],
   "source": [
    "print(l2[1]) # forward indexing\n",
    "print(l2[-1]) # negative indexing"
   ]
  },
  {
   "cell_type": "code",
   "execution_count": 14,
   "id": "9b546b1e-3038-44c6-8480-f1e01e803df3",
   "metadata": {},
   "outputs": [
    {
     "name": "stdout",
     "output_type": "stream",
     "text": [
      "[['h', 'e', 'l', 'l', 'o']]\n",
      "h!e!l!l!o!"
     ]
    },
    {
     "data": {
      "text/plain": [
       "5"
      ]
     },
     "execution_count": 14,
     "metadata": {},
     "output_type": "execute_result"
    }
   ],
   "source": [
    "# Traverse  a list by using loop / for  /\n",
    "print([l2])\n",
    "\n",
    "for eachvalue in l2:\n",
    "    print(eachvalue,end=\"!\")\n",
    "\n",
    "len([l2])\n",
    "\n",
    "len(l2)\n"
   ]
  },
  {
   "cell_type": "code",
   "execution_count": 15,
   "id": "efbf1a13-5cc2-4151-9ba3-97bb448569a6",
   "metadata": {},
   "outputs": [
    {
     "name": "stdout",
     "output_type": "stream",
     "text": [
      "[0]![1]![2]![3]![4]!"
     ]
    }
   ],
   "source": [
    "for indexno in range(len(l2)):\n",
    "    print([indexno],end=\"!\")"
   ]
  },
  {
   "cell_type": "code",
   "execution_count": 16,
   "id": "22948a51-3981-47b5-8022-14f3cf35bbd0",
   "metadata": {},
   "outputs": [
    {
     "data": {
      "text/plain": [
       "[1, 2, 3, 4, 5, 6]"
      ]
     },
     "execution_count": 16,
     "metadata": {},
     "output_type": "execute_result"
    }
   ],
   "source": [
    "# concatanation\n",
    "\n",
    "A=[1,2,3]\n",
    "B=[4,5,6]\n",
    "A+B"
   ]
  },
  {
   "cell_type": "code",
   "execution_count": 17,
   "id": "5f6f8707-7891-4a1a-995b-a4f71d6c5c9d",
   "metadata": {},
   "outputs": [
    {
     "data": {
      "text/plain": [
       "['welcome', 'welcome', 'welcome']"
      ]
     },
     "execution_count": 17,
     "metadata": {},
     "output_type": "execute_result"
    }
   ],
   "source": [
    "# replication by multiplication\n",
    "\n",
    "x=[\"welcome\"]\n",
    "x*3\n"
   ]
  },
  {
   "cell_type": "code",
   "execution_count": 18,
   "id": "69b20365-166f-4342-bf5d-25dc77f9f983",
   "metadata": {},
   "outputs": [
    {
     "data": {
      "text/plain": [
       "20"
      ]
     },
     "execution_count": 18,
     "metadata": {},
     "output_type": "execute_result"
    }
   ],
   "source": [
    "A=5\n",
    "B= A*4\n",
    "B"
   ]
  },
  {
   "cell_type": "code",
   "execution_count": 19,
   "id": "4750550b-6434-4d63-9d81-639bab5c0589",
   "metadata": {},
   "outputs": [
    {
     "data": {
      "text/plain": [
       "[5, 5, 5, 5]"
      ]
     },
     "execution_count": 19,
     "metadata": {},
     "output_type": "execute_result"
    }
   ],
   "source": [
    "A1=[5]\n",
    "B1=A1*4\n",
    "B1"
   ]
  },
  {
   "cell_type": "code",
   "execution_count": 20,
   "id": "317bbaf9-4387-4cdf-8a45-026488f37bae",
   "metadata": {},
   "outputs": [
    {
     "data": {
      "text/plain": [
       "['A', 'R', 'U', 'T', 'P', 'E', 'N', 'J', 'O', 'T', 'H', 'I']"
      ]
     },
     "execution_count": 20,
     "metadata": {},
     "output_type": "execute_result"
    }
   ],
   "source": [
    "# displaying the whole list by slicing\n",
    "\n",
    "A1=[\"A\",\"R\",\"U\",\"T\",\"P\",\"E\",\"N\", \"J\",\"O\",\"T\",\"H\",\"I\"]\n",
    "A1\n",
    "A1[:]\n",
    "\n"
   ]
  },
  {
   "cell_type": "code",
   "execution_count": 21,
   "id": "3bc8c354-6712-4cc7-a26e-8bc94a3fa8a9",
   "metadata": {},
   "outputs": [
    {
     "data": {
      "text/plain": [
       "['A', 'R', 'U', 'T', 'P', 'E', 'N', 'J', 'O', 'T', 'H', 'I']"
      ]
     },
     "execution_count": 21,
     "metadata": {},
     "output_type": "execute_result"
    }
   ],
   "source": [
    "A1[::]"
   ]
  },
  {
   "cell_type": "code",
   "execution_count": 22,
   "id": "a57c71b4-1f55-4771-b0d5-9b6b1ff92367",
   "metadata": {},
   "outputs": [
    {
     "data": {
      "text/plain": [
       "['A', 'R', 'U', 'T', 'P', 'E', 'N', 'J', 'O', 'T', 'H', 'I']"
      ]
     },
     "execution_count": 22,
     "metadata": {},
     "output_type": "execute_result"
    }
   ],
   "source": [
    "A1[0:]"
   ]
  },
  {
   "cell_type": "code",
   "execution_count": 23,
   "id": "e1fba747-21f9-43f8-a1b3-0fca285f93c7",
   "metadata": {},
   "outputs": [
    {
     "data": {
      "text/plain": [
       "['A', 'R', 'U', 'T', 'P', 'E', 'N', 'J', 'O', 'T', 'H', 'I']"
      ]
     },
     "execution_count": 23,
     "metadata": {},
     "output_type": "execute_result"
    }
   ],
   "source": [
    "A1[-12:]"
   ]
  },
  {
   "cell_type": "code",
   "execution_count": 24,
   "id": "411f5052-d03c-4f00-9c2b-32f8ba46cede",
   "metadata": {},
   "outputs": [
    {
     "data": {
      "text/plain": [
       "['A', 'R', 'U', 'T']"
      ]
     },
     "execution_count": 24,
     "metadata": {},
     "output_type": "execute_result"
    }
   ],
   "source": [
    "A1[:4]"
   ]
  },
  {
   "cell_type": "code",
   "execution_count": 25,
   "id": "de35a4e0-c1b5-4253-835f-c18ce87e0967",
   "metadata": {},
   "outputs": [
    {
     "data": {
      "text/plain": [
       "['J', 'O', 'T', 'H', 'I']"
      ]
     },
     "execution_count": 25,
     "metadata": {},
     "output_type": "execute_result"
    }
   ],
   "source": [
    "A1[7:]"
   ]
  },
  {
   "cell_type": "code",
   "execution_count": 26,
   "id": "c0aedbed-7189-4db8-9822-16fd57c50b00",
   "metadata": {},
   "outputs": [
    {
     "data": {
      "text/plain": [
       "['J', 'O', 'T', 'H', 'I']"
      ]
     },
     "execution_count": 26,
     "metadata": {},
     "output_type": "execute_result"
    }
   ],
   "source": [
    "A1[-5:]"
   ]
  },
  {
   "cell_type": "code",
   "execution_count": 84,
   "id": "bd483a96-7908-49b7-b25e-d41fec52dd02",
   "metadata": {},
   "outputs": [
    {
     "name": "stdout",
     "output_type": "stream",
     "text": [
      "['ram', 'THANIPERUNGARUNAI']\n"
     ]
    }
   ],
   "source": [
    "# append list\n",
    "\n",
    "B11=[\"ram\",\"THANIPERUNGARUNAI\"]\n",
    "print(B11)\n"
   ]
  },
  {
   "cell_type": "code",
   "execution_count": 88,
   "id": "1dcf5ed6-4243-4626-89b7-e0df38c53d9d",
   "metadata": {},
   "outputs": [
    {
     "data": {
      "text/plain": [
       "['krish', 'Arutperunjothi']"
      ]
     },
     "execution_count": 88,
     "metadata": {},
     "output_type": "execute_result"
    }
   ],
   "source": [
    "A11=[\"krish\",\"Arutperunjothi\"]\n",
    "A11"
   ]
  },
  {
   "cell_type": "code",
   "execution_count": 90,
   "id": "a16824a5-6c54-4966-85b9-0d5d79a476eb",
   "metadata": {},
   "outputs": [
    {
     "name": "stdout",
     "output_type": "stream",
     "text": [
      "['krish', 'Arutperunjothi', ['ram', 'THANIPERUNGARUNAI']]\n"
     ]
    }
   ],
   "source": [
    "A11.append(B11)\n",
    "print(A11)"
   ]
  },
  {
   "cell_type": "code",
   "execution_count": 100,
   "id": "e414f945-0e87-48a7-9fe3-473cf91fed3f",
   "metadata": {},
   "outputs": [
    {
     "data": {
      "text/plain": [
       "['honda', 'maruthi', 'Nissan', 'hyundai']"
      ]
     },
     "execution_count": 100,
     "metadata": {},
     "output_type": "execute_result"
    }
   ],
   "source": [
    "cars=[\"honda\",\"maruthi\"]\n",
    "cars.append(\"Nissan\")\n",
    "cars.append(\"hyundai\")\n",
    "cars"
   ]
  },
  {
   "cell_type": "code",
   "execution_count": 102,
   "id": "cf925d70-061c-4259-95f1-673b02822a14",
   "metadata": {},
   "outputs": [
    {
     "data": {
      "text/plain": [
       "['honda', 'maruthi', 'Nissan', 'hyundai', 'benx', 'ferrary', 'BMW']"
      ]
     },
     "execution_count": 102,
     "metadata": {},
     "output_type": "execute_result"
    }
   ],
   "source": [
    "# extend function append multiple values\n",
    "\n",
    "M=[\"benx\",\"ferrary\",\"BMW\"]\n",
    "cars.extend(M)\n",
    "cars\n"
   ]
  },
  {
   "cell_type": "code",
   "execution_count": 104,
   "id": "e83f039e-595a-4a4f-b464-d418fa5a56b6",
   "metadata": {},
   "outputs": [
    {
     "data": {
      "text/plain": [
       "['honda', 'maruthi', 'daimler', 'Nissan', 'hyundai', 'benx', 'ferrary', 'BMW']"
      ]
     },
     "execution_count": 104,
     "metadata": {},
     "output_type": "execute_result"
    }
   ],
   "source": [
    "# insert add single value to exact position of the list \n",
    "cars.insert(2,\"daimler\") # 3rd position 2nd index daimler will inserted\n",
    "cars\n",
    "\n"
   ]
  },
  {
   "cell_type": "code",
   "execution_count": 108,
   "id": "4277852d-5c15-4389-a309-ab2fe4545504",
   "metadata": {},
   "outputs": [
    {
     "data": {
      "text/plain": [
       "[['xyz', 'bc'],\n",
       " 'honda',\n",
       " 'maruthi',\n",
       " 'daimler',\n",
       " 'Nissan',\n",
       " 'hyundai',\n",
       " 'benx',\n",
       " 'ferrary',\n",
       " 'BMW']"
      ]
     },
     "execution_count": 108,
     "metadata": {},
     "output_type": "execute_result"
    }
   ],
   "source": [
    "a=[\"xyz\",\"bc\"]\n",
    "cars.insert(0,a) # list of a values inserted in 0 th index\n",
    "cars"
   ]
  },
  {
   "cell_type": "code",
   "execution_count": 110,
   "id": "7b4471ab-35dc-4bfe-a733-e3e3cfe14142",
   "metadata": {},
   "outputs": [
    {
     "data": {
      "text/plain": [
       "[['arul'],\n",
       " 'honda',\n",
       " 'maruthi',\n",
       " 'daimler',\n",
       " 'Nissan',\n",
       " 'hyundai',\n",
       " 'benx',\n",
       " 'ferrary',\n",
       " 'BMW']"
      ]
     },
     "execution_count": 110,
     "metadata": {},
     "output_type": "execute_result"
    }
   ],
   "source": [
    "# modifying existing values by assignment operator\n",
    "cars[0]=[\"arul\"]  # oth index value['xyz', 'bc'] replaced by arul\n",
    "cars\n",
    "\n"
   ]
  },
  {
   "cell_type": "code",
   "execution_count": 127,
   "id": "88df9ae9-ed7d-4860-9597-8277b680196d",
   "metadata": {},
   "outputs": [
    {
     "data": {
      "text/plain": [
       "[['arul'],\n",
       " 'jeeva',\n",
       " 'ram',\n",
       " 'laks',\n",
       " 'rama',\n",
       " 'rama',\n",
       " 'rama',\n",
       " 'rama',\n",
       " 'lingam',\n",
       " 'rama',\n",
       " 'daimler',\n",
       " 'Nissan',\n",
       " 'hyundai',\n",
       " 'benx',\n",
       " 'ferrary',\n",
       " 'BMW']"
      ]
     },
     "execution_count": 127,
     "metadata": {},
     "output_type": "execute_result"
    }
   ],
   "source": [
    "cars[2:3]=[\"ram\",\"laks\"]\n",
    "cars"
   ]
  },
  {
   "cell_type": "code",
   "execution_count": null,
   "id": "59f08bbd-2524-469b-8a6d-37ec1376e210",
   "metadata": {},
   "outputs": [],
   "source": []
  }
 ],
 "metadata": {
  "kernelspec": {
   "display_name": "Python 3 (ipykernel)",
   "language": "python",
   "name": "python3"
  },
  "language_info": {
   "codemirror_mode": {
    "name": "ipython",
    "version": 3
   },
   "file_extension": ".py",
   "mimetype": "text/x-python",
   "name": "python",
   "nbconvert_exporter": "python",
   "pygments_lexer": "ipython3",
   "version": "3.12.4"
  }
 },
 "nbformat": 4,
 "nbformat_minor": 5
}
