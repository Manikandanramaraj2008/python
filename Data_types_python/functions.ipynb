{
 "cells": [
  {
   "cell_type": "code",
   "execution_count": 1,
   "id": "d27a4a44-3b2e-4740-93e7-697e2a5775ab",
   "metadata": {},
   "outputs": [
    {
     "name": "stdout",
     "output_type": "stream",
     "text": [
      "Hello world\n"
     ]
    }
   ],
   "source": [
    "def Hello_world():\n",
    "    print(\"Hello world\")\n",
    "Hello_world() #  function name is Hello _world. it printed when it calls.\n"
   ]
  },
  {
   "cell_type": "code",
   "execution_count": 9,
   "id": "ed5d10e3-70ae-49ca-84fb-6380c0ce27ce",
   "metadata": {},
   "outputs": [
    {
     "data": {
      "text/plain": [
       "7"
      ]
     },
     "execution_count": 9,
     "metadata": {},
     "output_type": "execute_result"
    }
   ],
   "source": [
    "def sum(num1,num2):\n",
    "    return num1+num2\n",
    "sum(5,2)  # argument 5,2 passed in to function sum and called out it returns the sum.\n"
   ]
  },
  {
   "cell_type": "code",
   "execution_count": 7,
   "id": "c7cac9d2-5e58-4ba9-a72a-c3882ec29307",
   "metadata": {},
   "outputs": [
    {
     "data": {
      "text/plain": [
       "'manikandan'"
      ]
     },
     "execution_count": 7,
     "metadata": {},
     "output_type": "execute_result"
    }
   ],
   "source": [
    "sum(\"mani\",\"kandan\")"
   ]
  },
  {
   "cell_type": "code",
   "execution_count": 18,
   "id": "09367be4-48be-434e-98b7-90bf13172d19",
   "metadata": {},
   "outputs": [
    {
     "name": "stdout",
     "output_type": "stream",
     "text": [
      "7\n"
     ]
    }
   ],
   "source": [
    "def sum(num1,num2):\n",
    "    return num1+num2\n",
    "total=sum(5,2)\n",
    "print(total)\n",
    "    "
   ]
  },
  {
   "cell_type": "code",
   "execution_count": 20,
   "id": "e827feb5-3c8d-4801-851b-ed8f1a63f490",
   "metadata": {},
   "outputs": [
    {
     "name": "stdout",
     "output_type": "stream",
     "text": [
      "None\n"
     ]
    }
   ],
   "source": [
    "def sum(num1,num2):\n",
    "    if (type(num1) is not int, type(num2) is not int):\n",
    "        return  # no values provided in return, so that None printed.\n",
    "total=sum(2,3)\n",
    "print(total)"
   ]
  },
  {
   "cell_type": "code",
   "execution_count": 28,
   "id": "e6d388f0-1b64-4fae-b05a-dc00fc03c2b8",
   "metadata": {},
   "outputs": [
    {
     "name": "stdout",
     "output_type": "stream",
     "text": [
      "('arul', 'vallalar', 'ramalingam')\n",
      "<class 'tuple'>\n"
     ]
    }
   ],
   "source": [
    "def items(*args): # (* args --- stands for n - number of arguments can be passed) \n",
    "    print(args)\n",
    "    print(type(args))   # type of args is tuple.\n",
    "\n",
    "items(\"arul\",\"vallalar\",\"ramalingam\")\n"
   ]
  },
  {
   "cell_type": "code",
   "execution_count": 32,
   "id": "c8e9cbc3-0453-4660-b844-dda88d912d52",
   "metadata": {},
   "outputs": [
    {
     "name": "stdout",
     "output_type": "stream",
     "text": [
      "Sum: 6\n"
     ]
    }
   ],
   "source": [
    "def add (*num):\n",
    "    sum=0\n",
    "    for n in num:\n",
    "        sum= sum + n\n",
    "    print(\"Sum:\",sum)\n",
    "add(2,4)\n",
    "    "
   ]
  },
  {
   "cell_type": "code",
   "execution_count": 40,
   "id": "b2e00c3c-0189-45b1-ba41-e865c2a1ae0a",
   "metadata": {},
   "outputs": [
    {
     "name": "stdout",
     "output_type": "stream",
     "text": [
      "{'first': 'subscribe', 'last': 'share'}\n",
      "<class 'dict'>\n"
     ]
    }
   ],
   "source": [
    "def named_items(**kvargs): # key value  n numb of arguments  stands for **\n",
    "    print(kvargs) \n",
    "    print(type(kvargs))  # type of dictionary\n",
    "named_items(first=\"subscribe\",last =\"share\")       \n",
    "            "
   ]
  },
  {
   "cell_type": "code",
   "execution_count": 95,
   "id": "dcddc43c-bef2-4a18-8384-c821d2b01d30",
   "metadata": {},
   "outputs": [
    {
     "name": "stdout",
     "output_type": "stream",
     "text": [
      "3 2\n",
      "(10, 20)\n",
      "False\n",
      "{'name': 'ramalingam', 'job': 'arul'}\n"
     ]
    }
   ],
   "source": [
    "def all_func(a,b,*args,option=False,**kvargs):\n",
    "    print(a, b)\n",
    "    print(args)\n",
    "    print(option)\n",
    "    print(kvargs)\n",
    "    \n",
    "all_func(3,2,10,20,name =\"ramalingam\", job=\"arul\")\n",
    "    \n",
    "\n",
    "    "
   ]
  },
  {
   "cell_type": "code",
   "execution_count": 109,
   "id": "31e36bb4-cf48-42da-91ce-126bce9feecf",
   "metadata": {},
   "outputs": [
    {
     "name": "stdout",
     "output_type": "stream",
     "text": [
      "1\n"
     ]
    }
   ],
   "source": [
    "#RECURSION --- Defined function can call itself. can loop thru data up to get results\n",
    "\n",
    "def add_one(num):\n",
    "    if (num >=9):\n",
    "        return num+1\n",
    "    total = num +1\n",
    "    print(total)\n",
    "add_one(0)\n",
    "    "
   ]
  },
  {
   "cell_type": "code",
   "execution_count": 117,
   "id": "67ca42f0-feb7-47d5-84cc-b7fc616f7674",
   "metadata": {},
   "outputs": [
    {
     "name": "stdout",
     "output_type": "stream",
     "text": [
      "1\n",
      "2\n",
      "3\n",
      "4\n",
      "5\n",
      "6\n",
      "7\n",
      "8\n",
      "9\n",
      "10\n"
     ]
    }
   ],
   "source": [
    "def add_one(num):\n",
    "    if (num >=9):\n",
    "        return num+1\n",
    "    total = num +1\n",
    "    print(total)\n",
    "    return add_one(total) # the total passed as parameter in function itself)\n",
    "my_newtotal = add_one(0)\n",
    "print(my_newtotal)\n"
   ]
  },
  {
   "cell_type": "code",
   "execution_count": 15,
   "id": "92438c6a-602b-4f65-b14a-27bcee1eed33",
   "metadata": {},
   "outputs": [
    {
     "name": "stdout",
     "output_type": "stream",
     "text": [
      "factorial of number 6 =  720\n"
     ]
    }
   ],
   "source": [
    "# RECURSION FUNCTIONS\n",
    "\n",
    "def recursive_factorial(n):\n",
    "    if n==1:\n",
    "        return n\n",
    "    else:\n",
    "        return n * recursive_factorial(n-1)\n",
    "# recursive_factorial(6)\n",
    "\n",
    "if num < 0:\n",
    "    print(\"Invalid number please enter positive number\")\n",
    "elif num== 0:\n",
    "    print(\" factorial of number 0 is 1\")\n",
    "else:\n",
    "    print(\"factorial of number\", num, \"= \",recursive_factorial(num))\n",
    "\n",
    "num = 6 # user input\n",
    "    \n"
   ]
  },
  {
   "cell_type": "code",
   "execution_count": null,
   "id": "9105bdd7-8c56-401f-a2a9-f21e66214ece",
   "metadata": {},
   "outputs": [],
   "source": [
    "\n"
   ]
  },
  {
   "cell_type": "code",
   "execution_count": null,
   "id": "4ad86ce9-d53e-44d8-9d5e-995fd0bdb554",
   "metadata": {},
   "outputs": [],
   "source": []
  }
 ],
 "metadata": {
  "kernelspec": {
   "display_name": "Python 3 (ipykernel)",
   "language": "python",
   "name": "python3"
  },
  "language_info": {
   "codemirror_mode": {
    "name": "ipython",
    "version": 3
   },
   "file_extension": ".py",
   "mimetype": "text/x-python",
   "name": "python",
   "nbconvert_exporter": "python",
   "pygments_lexer": "ipython3",
   "version": "3.12.4"
  }
 },
 "nbformat": 4,
 "nbformat_minor": 5
}
