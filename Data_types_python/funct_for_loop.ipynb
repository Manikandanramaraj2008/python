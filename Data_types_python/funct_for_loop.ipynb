{
 "cells": [
  {
   "cell_type": "code",
   "execution_count": 1,
   "id": "9442338a-a92f-4fcd-836f-47658be9a6e6",
   "metadata": {},
   "outputs": [
    {
     "name": "stdout",
     "output_type": "stream",
     "text": [
      "1\n",
      "3\n",
      "5\n",
      " \n"
     ]
    }
   ],
   "source": [
    "# looping\n",
    "# while loop\n",
    "i = 1\n",
    "while i<6 :\n",
    "       print(i)\n",
    "       i+= 2 \n",
    "# adding  2 to 1 meeting condition\n",
    "# #printing 3.  again adding 2 printing 5\n",
    "# again adding 2 becoming 7 not meeting the \n",
    "# conditions so that printing stopped after 5\n",
    "print(\" \")  # for output space"
   ]
  },
  {
   "cell_type": "code",
   "execution_count": 2,
   "id": "201f1ffc-9fb6-4251-ba4e-362ff34faaf1",
   "metadata": {},
   "outputs": [
    {
     "name": "stdout",
     "output_type": "stream",
     "text": [
      "2\n",
      "3\n",
      "4\n",
      "5\n",
      "6\n",
      "7\n"
     ]
    }
   ],
   "source": [
    "i=1\n",
    "while i<10:\n",
    "       i+=1 \n",
    "       if i==8:\n",
    "         break  # after 8 the loop break \n",
    "           # print up to 8\n",
    "       print(i)"
   ]
  },
  {
   "cell_type": "code",
   "execution_count": 3,
   "id": "ce094e44-0be3-4178-bc29-e56600f9cf0f",
   "metadata": {},
   "outputs": [
    {
     "name": "stdout",
     "output_type": "stream",
     "text": [
      "2\n",
      "3\n",
      "4\n",
      "5\n",
      "6\n",
      "7\n",
      "9\n",
      "10\n"
     ]
    }
   ],
   "source": [
    "i=1\n",
    "while i<10:\n",
    "       i+=1\n",
    "       if i==8: # continueing the loop\n",
    "         continue\n",
    "       print(i)"
   ]
  },
  {
   "cell_type": "code",
   "execution_count": 4,
   "id": "575df13d-7ba2-4d69-84df-600697fc2946",
   "metadata": {},
   "outputs": [
    {
     "name": "stdout",
     "output_type": "stream",
     "text": [
      "2\n",
      "3\n",
      "4\n",
      "5\n",
      "6\n",
      "7\n",
      "9\n",
      "10\n",
      "i is no longer less than 10\n"
     ]
    }
   ],
   "source": [
    "i=1\n",
    "while i<10:\n",
    "       i+=1\n",
    "       if i==8: # continueing the loop\n",
    "         continue\n",
    "       print(i)\n",
    "else:\n",
    "       print(\"i is no longer less than 10\")"
   ]
  },
  {
   "cell_type": "code",
   "execution_count": 5,
   "id": "6ef03c30-e2ab-46a7-a496-c651efa7e09c",
   "metadata": {},
   "outputs": [
    {
     "name": "stdout",
     "output_type": "stream",
     "text": [
      "apple\n",
      "orange\n",
      "grapes\n",
      "s\n",
      "h\n",
      "a\n",
      "r\n",
      "e\n"
     ]
    }
   ],
   "source": [
    "# for loop\n",
    "\n",
    "fruits =[\"apple\",\"orange\",\"grapes\"]\n",
    "for x in fruits:\n",
    "  print(x) \n",
    "for x in \"share\":\n",
    "       print(x)"
   ]
  },
  {
   "cell_type": "code",
   "execution_count": 6,
   "id": "162adb71-1973-4778-98ff-2a52e58cbe06",
   "metadata": {},
   "outputs": [
    {
     "name": "stdout",
     "output_type": "stream",
     "text": [
      "apple\n",
      "s\n",
      "h\n",
      "a\n",
      "r\n",
      "e\n"
     ]
    }
   ],
   "source": [
    "# breaking the loop\n",
    "\n",
    "fruits =[\"apple\",\"orange\",\"grapes\"]\n",
    "for x in fruits:\n",
    "  if x ==\"orange\":\n",
    "       break\n",
    "  print(x) \n",
    "for x in \"share\":\n",
    "       print(x)"
   ]
  },
  {
   "cell_type": "code",
   "execution_count": 7,
   "id": "5edc9aba-c0ed-43ba-905b-bacfecc5d3cf",
   "metadata": {},
   "outputs": [
    {
     "name": "stdout",
     "output_type": "stream",
     "text": [
      "apple\n",
      "grapes\n",
      "s\n",
      "h\n",
      "a\n",
      "r\n",
      "e\n"
     ]
    }
   ],
   "source": [
    "# continuing the loop by if condition\n",
    "\n",
    "fruits =[\"apple\",\"orange\",\"grapes\"]\n",
    "for x in fruits:\n",
    "  if x ==\"orange\":\n",
    "       continue\n",
    "  print(x) \n",
    "for x in \"share\":\n",
    "       print(x)"
   ]
  },
  {
   "cell_type": "code",
   "execution_count": 8,
   "id": "5a91be7a-f8a5-485f-b0e4-74bcfff5e35f",
   "metadata": {},
   "outputs": [
    {
     "name": "stdout",
     "output_type": "stream",
     "text": [
      "0\n",
      "1\n",
      "2\n",
      "3\n",
      "4\n",
      "5\n",
      "6\n",
      "7\n",
      "8\n",
      "9\n",
      "\n",
      "4\n",
      "\n",
      "5\n",
      "\n",
      "6\n",
      "\n",
      "7\n",
      "\n",
      "8\n",
      "10\n",
      "15\n",
      "20\n",
      "25\n",
      "30\n",
      "35\n",
      "40\n",
      "45\n",
      "50\n",
      " Great it is over\n"
     ]
    }
   ],
   "source": [
    "# range in loops\n",
    "for x in range(10): # print from 0 to 9\n",
    "       print(x)\n",
    "       \n",
    "for x in range (4,9): # print upto 8 starts from 4\n",
    "       print(\"\") # for providing space.\n",
    "       print(x)\n",
    "       \n",
    "for x in range(10,51,5): # print up to 50 jumped by 5\n",
    "        print(x)\n",
    "        \n",
    "else:\n",
    "       print(\" Great it is over\")"
   ]
  },
  {
   "cell_type": "code",
   "execution_count": 27,
   "id": "84268aa5-9040-4da0-921a-3c3112b92909",
   "metadata": {},
   "outputs": [
    {
     "name": "stdout",
     "output_type": "stream",
     "text": [
      "vallalr\n",
      "ramalingam\n",
      "chidambaram\n",
      "sabai\n",
      "salai\n",
      "siddhi\n"
     ]
    }
   ],
   "source": [
    "# loops\n",
    "\n",
    "names =[\"vallalr\",\"ramalingam\",\"chidambaram\"]\n",
    "actions =[\"sabai\",\"salai\",\"siddhi\"]\n",
    "for name in names:\n",
    "    print(name)\n",
    "for action in actions:\n",
    "    print(action)\n",
    "      \n"
   ]
  },
  {
   "cell_type": "code",
   "execution_count": 31,
   "id": "79fc9a73-a20f-4a73-b102-f0da67d4dd56",
   "metadata": {},
   "outputs": [
    {
     "name": "stdout",
     "output_type": "stream",
     "text": [
      "vallalr sabai,\n",
      "vallalr salai,\n",
      "vallalr siddhi,\n",
      "ramalingam sabai,\n",
      "ramalingam salai,\n",
      "ramalingam siddhi,\n",
      "chidambaram sabai,\n",
      "chidambaram salai,\n",
      "chidambaram siddhi,\n"
     ]
    }
   ],
   "source": [
    "#nested loops\n",
    "\n",
    "names =[\"vallalr\",\"ramalingam\",\"chidambaram\"]\n",
    "actions =[\"sabai\",\"salai\",\"siddhi\"]\n",
    "for name in names:\n",
    "    for action in actions:\n",
    "        print(name +(\" \")+ action + \",\")\n",
    "\n"
   ]
  },
  {
   "cell_type": "code",
   "execution_count": 11,
   "id": "1ad1ef7d-97ce-4133-9b92-a5083ef4eb67",
   "metadata": {},
   "outputs": [
    {
     "name": "stdout",
     "output_type": "stream",
     "text": [
      "vallalr sabai,\n",
      "ramalingam sabai,\n",
      "chidambaram sabai,\n",
      "vallalr salai,\n",
      "ramalingam salai,\n",
      "chidambaram salai,\n",
      "vallalr siddhi,\n",
      "ramalingam siddhi,\n",
      "chidambaram siddhi,\n"
     ]
    }
   ],
   "source": [
    "\n",
    "#nested loops_2\n",
    "\n",
    "names =[\"vallalr\",\"ramalingam\",\"chidambaram\"]\n",
    "actions =[\"sabai\",\"salai\",\"siddhi\"]\n",
    "for action in actions:\n",
    "      # print(name)\n",
    "      for name in names:\n",
    "       print(name +(\" \")+ action + \",\")\n"
   ]
  }
 ],
 "metadata": {
  "kernelspec": {
   "display_name": "Python 3 (ipykernel)",
   "language": "python",
   "name": "python3"
  },
  "language_info": {
   "codemirror_mode": {
    "name": "ipython",
    "version": 3
   },
   "file_extension": ".py",
   "mimetype": "text/x-python",
   "name": "python",
   "nbconvert_exporter": "python",
   "pygments_lexer": "ipython3",
   "version": "3.12.4"
  }
 },
 "nbformat": 4,
 "nbformat_minor": 5
}
