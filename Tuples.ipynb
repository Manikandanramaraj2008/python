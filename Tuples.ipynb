{
 "cells": [
  {
   "cell_type": "code",
   "execution_count": 9,
   "id": "7a4b33bc-cc77-4c9a-afd6-b2fb3b4cca2e",
   "metadata": {},
   "outputs": [
    {
     "data": {
      "text/plain": [
       "('darama', 'sabai', 'sidhi', 1, True, '3')"
      ]
     },
     "execution_count": 9,
     "metadata": {},
     "output_type": "execute_result"
    }
   ],
   "source": [
    "# Tuples==single value inside the variable, different data types/cannot change the value after creation\n",
    "tup1=(\"darama\",\"sabai\",\"sidhi\",1,True,\"3\")\n",
    "tup1"
   ]
  },
  {
   "cell_type": "code",
   "execution_count": 13,
   "id": "97ae40ff-e6ea-43aa-9465-4b775abe7b8f",
   "metadata": {},
   "outputs": [
    {
     "data": {
      "text/plain": [
       "('sidhi', 1)"
      ]
     },
     "execution_count": 13,
     "metadata": {},
     "output_type": "execute_result"
    }
   ],
   "source": [
    "tup1[2:4]"
   ]
  },
  {
   "cell_type": "code",
   "execution_count": 15,
   "id": "a177e8ed-f5a1-4cd8-9131-5877b8b238b7",
   "metadata": {},
   "outputs": [
    {
     "data": {
      "text/plain": [
       "True"
      ]
     },
     "execution_count": 15,
     "metadata": {},
     "output_type": "execute_result"
    }
   ],
   "source": [
    "tup1[4]"
   ]
  },
  {
   "cell_type": "code",
   "execution_count": 17,
   "id": "7966d9fe-6cf7-496c-8652-382ec99b03c5",
   "metadata": {},
   "outputs": [
    {
     "data": {
      "text/plain": [
       "('darama',\n",
       " 'sabai',\n",
       " 'sidhi',\n",
       " 1,\n",
       " True,\n",
       " '3',\n",
       " 'darama',\n",
       " 'sabai',\n",
       " 'sidhi',\n",
       " 1,\n",
       " True,\n",
       " '3')"
      ]
     },
     "execution_count": 17,
     "metadata": {},
     "output_type": "execute_result"
    }
   ],
   "source": [
    "#repeatation of tuple elements \n",
    "tup1*2"
   ]
  },
  {
   "cell_type": "code",
   "execution_count": 19,
   "id": "8c0fbbf8-a242-4eae-9846-9597ca529621",
   "metadata": {},
   "outputs": [
    {
     "data": {
      "text/plain": [
       "6"
      ]
     },
     "execution_count": 19,
     "metadata": {},
     "output_type": "execute_result"
    }
   ],
   "source": [
    "len(tup1)"
   ]
  },
  {
   "cell_type": "code",
   "execution_count": 21,
   "id": "9396f5a7-bf2f-4053-b86b-9d9271795178",
   "metadata": {},
   "outputs": [
    {
     "data": {
      "text/plain": [
       "tuple"
      ]
     },
     "execution_count": 21,
     "metadata": {},
     "output_type": "execute_result"
    }
   ],
   "source": [
    "type(tup1)"
   ]
  },
  {
   "cell_type": "code",
   "execution_count": 23,
   "id": "38088390-dd8f-4c38-8cb3-50e8fed36ad1",
   "metadata": {},
   "outputs": [
    {
     "data": {
      "text/plain": [
       "('darama', 'sabai', 'sidhi', 1, True, '3', 'man', 'sun', 'lotus')"
      ]
     },
     "execution_count": 23,
     "metadata": {},
     "output_type": "execute_result"
    }
   ],
   "source": [
    "#concatanation of tuple elements \n",
    "tup2=(\"man\",\"sun\",\"lotus\")\n",
    "tup1+tup2"
   ]
  },
  {
   "cell_type": "code",
   "execution_count": 27,
   "id": "2846f12c-7ea3-47a4-88b6-9e9fa2ce7726",
   "metadata": {},
   "outputs": [
    {
     "data": {
      "text/plain": [
       "6"
      ]
     },
     "execution_count": 27,
     "metadata": {},
     "output_type": "execute_result"
    }
   ],
   "source": [
    "tup3=(1,2,3,6)\n",
    "min(tup3)\n",
    "max(tup3)"
   ]
  },
  {
   "cell_type": "code",
   "execution_count": null,
   "id": "6eefa56c-ff1c-4e64-b667-cff5f715a4bd",
   "metadata": {},
   "outputs": [],
   "source": []
  }
 ],
 "metadata": {
  "kernelspec": {
   "display_name": "Python 3 (ipykernel)",
   "language": "python",
   "name": "python3"
  },
  "language_info": {
   "codemirror_mode": {
    "name": "ipython",
    "version": 3
   },
   "file_extension": ".py",
   "mimetype": "text/x-python",
   "name": "python",
   "nbconvert_exporter": "python",
   "pygments_lexer": "ipython3",
   "version": "3.12.4"
  }
 },
 "nbformat": 4,
 "nbformat_minor": 5
}
